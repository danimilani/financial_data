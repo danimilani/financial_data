{
 "cells": [
  {
   "cell_type": "markdown",
   "id": "910f471d",
   "metadata": {},
   "source": [
    "# The DataReader: Access financial data online"
   ]
  },
  {
   "cell_type": "markdown",
   "id": "20d2b4c5",
   "metadata": {},
   "source": [
    "The pandas data_reader is a great package that provides easy access to a range of financial data sources on the web."
   ]
  },
  {
   "cell_type": "markdown",
   "id": "640d4439",
   "metadata": {},
   "source": [
    "## Importing stock prices"
   ]
  },
  {
   "cell_type": "code",
   "execution_count": 30,
   "id": "29b8bd71",
   "metadata": {},
   "outputs": [],
   "source": [
    "import pandas as pd\n",
    "import datetime as dt\n",
    "from pandas_datareader.data import DataReader\n",
    "from datetime import date # Date & Time functionality"
   ]
  },
  {
   "cell_type": "code",
   "execution_count": 38,
   "id": "c3b8977f",
   "metadata": {},
   "outputs": [
    {
     "name": "stdout",
     "output_type": "stream",
     "text": [
      "<class 'pandas.core.frame.DataFrame'>\n",
      "DatetimeIndex: 254 entries, 2023-01-02 to 2024-01-12\n",
      "Data columns (total 5 columns):\n",
      " #   Column  Non-Null Count  Dtype \n",
      "---  ------  --------------  ----- \n",
      " 0   Open    254 non-null    object\n",
      " 1   High    254 non-null    object\n",
      " 2   Low     254 non-null    object\n",
      " 3   Close   254 non-null    object\n",
      " 4   Volume  254 non-null    object\n",
      "dtypes: object(5)\n",
      "memory usage: 11.9+ KB\n"
     ]
    }
   ],
   "source": [
    "# Provide the dates\n",
    "\n",
    "start = date(2023,1,1) # Jan 1, 2023\n",
    "end = date(2024,1,14) # today - Jan 14, 2024\n",
    "ticker = '005930' # Samsung ticker\n",
    "data_source = 'naver' # get info from Naver Finance (Korean Stock Market)\n",
    "stock_data = DataReader(ticker, data_source, start, end)\n",
    "stock_data.info()"
   ]
  },
  {
   "cell_type": "code",
   "execution_count": 46,
   "id": "4dd587fc",
   "metadata": {
    "scrolled": true
   },
   "outputs": [
    {
     "data": {
      "text/html": [
       "<div>\n",
       "<style scoped>\n",
       "    .dataframe tbody tr th:only-of-type {\n",
       "        vertical-align: middle;\n",
       "    }\n",
       "\n",
       "    .dataframe tbody tr th {\n",
       "        vertical-align: top;\n",
       "    }\n",
       "\n",
       "    .dataframe thead th {\n",
       "        text-align: right;\n",
       "    }\n",
       "</style>\n",
       "<table border=\"1\" class=\"dataframe\">\n",
       "  <thead>\n",
       "    <tr style=\"text-align: right;\">\n",
       "      <th></th>\n",
       "      <th>Open</th>\n",
       "      <th>High</th>\n",
       "      <th>Low</th>\n",
       "      <th>Close</th>\n",
       "      <th>Volume</th>\n",
       "    </tr>\n",
       "    <tr>\n",
       "      <th>Date</th>\n",
       "      <th></th>\n",
       "      <th></th>\n",
       "      <th></th>\n",
       "      <th></th>\n",
       "      <th></th>\n",
       "    </tr>\n",
       "  </thead>\n",
       "  <tbody>\n",
       "    <tr>\n",
       "      <th>2023-01-02</th>\n",
       "      <td>55500.0</td>\n",
       "      <td>56100.0</td>\n",
       "      <td>55200.0</td>\n",
       "      <td>55500.0</td>\n",
       "      <td>10031448.0</td>\n",
       "    </tr>\n",
       "    <tr>\n",
       "      <th>2023-01-03</th>\n",
       "      <td>55400.0</td>\n",
       "      <td>56000.0</td>\n",
       "      <td>54500.0</td>\n",
       "      <td>55400.0</td>\n",
       "      <td>13547030.0</td>\n",
       "    </tr>\n",
       "    <tr>\n",
       "      <th>2023-01-04</th>\n",
       "      <td>55700.0</td>\n",
       "      <td>58000.0</td>\n",
       "      <td>55600.0</td>\n",
       "      <td>57800.0</td>\n",
       "      <td>20188071.0</td>\n",
       "    </tr>\n",
       "    <tr>\n",
       "      <th>2023-01-05</th>\n",
       "      <td>58200.0</td>\n",
       "      <td>58800.0</td>\n",
       "      <td>57600.0</td>\n",
       "      <td>58200.0</td>\n",
       "      <td>15682826.0</td>\n",
       "    </tr>\n",
       "    <tr>\n",
       "      <th>2023-01-06</th>\n",
       "      <td>58300.0</td>\n",
       "      <td>59400.0</td>\n",
       "      <td>57900.0</td>\n",
       "      <td>59000.0</td>\n",
       "      <td>17334989.0</td>\n",
       "    </tr>\n",
       "    <tr>\n",
       "      <th>...</th>\n",
       "      <td>...</td>\n",
       "      <td>...</td>\n",
       "      <td>...</td>\n",
       "      <td>...</td>\n",
       "      <td>...</td>\n",
       "    </tr>\n",
       "    <tr>\n",
       "      <th>2024-01-08</th>\n",
       "      <td>77000.0</td>\n",
       "      <td>77500.0</td>\n",
       "      <td>76400.0</td>\n",
       "      <td>76500.0</td>\n",
       "      <td>11088724.0</td>\n",
       "    </tr>\n",
       "    <tr>\n",
       "      <th>2024-01-09</th>\n",
       "      <td>77400.0</td>\n",
       "      <td>77700.0</td>\n",
       "      <td>74300.0</td>\n",
       "      <td>74700.0</td>\n",
       "      <td>26019249.0</td>\n",
       "    </tr>\n",
       "    <tr>\n",
       "      <th>2024-01-10</th>\n",
       "      <td>75000.0</td>\n",
       "      <td>75200.0</td>\n",
       "      <td>73200.0</td>\n",
       "      <td>73600.0</td>\n",
       "      <td>20259529.0</td>\n",
       "    </tr>\n",
       "    <tr>\n",
       "      <th>2024-01-11</th>\n",
       "      <td>72900.0</td>\n",
       "      <td>73600.0</td>\n",
       "      <td>72700.0</td>\n",
       "      <td>73200.0</td>\n",
       "      <td>57691266.0</td>\n",
       "    </tr>\n",
       "    <tr>\n",
       "      <th>2024-01-12</th>\n",
       "      <td>73000.0</td>\n",
       "      <td>74100.0</td>\n",
       "      <td>72800.0</td>\n",
       "      <td>73100.0</td>\n",
       "      <td>12970027.0</td>\n",
       "    </tr>\n",
       "  </tbody>\n",
       "</table>\n",
       "<p>254 rows × 5 columns</p>\n",
       "</div>"
      ],
      "text/plain": [
       "               Open     High      Low    Close      Volume\n",
       "Date                                                      \n",
       "2023-01-02  55500.0  56100.0  55200.0  55500.0  10031448.0\n",
       "2023-01-03  55400.0  56000.0  54500.0  55400.0  13547030.0\n",
       "2023-01-04  55700.0  58000.0  55600.0  57800.0  20188071.0\n",
       "2023-01-05  58200.0  58800.0  57600.0  58200.0  15682826.0\n",
       "2023-01-06  58300.0  59400.0  57900.0  59000.0  17334989.0\n",
       "...             ...      ...      ...      ...         ...\n",
       "2024-01-08  77000.0  77500.0  76400.0  76500.0  11088724.0\n",
       "2024-01-09  77400.0  77700.0  74300.0  74700.0  26019249.0\n",
       "2024-01-10  75000.0  75200.0  73200.0  73600.0  20259529.0\n",
       "2024-01-11  72900.0  73600.0  72700.0  73200.0  57691266.0\n",
       "2024-01-12  73000.0  74100.0  72800.0  73100.0  12970027.0\n",
       "\n",
       "[254 rows x 5 columns]"
      ]
     },
     "execution_count": 46,
     "metadata": {},
     "output_type": "execute_result"
    }
   ],
   "source": [
    "stock_data"
   ]
  },
  {
   "cell_type": "code",
   "execution_count": 47,
   "id": "ed1fd890",
   "metadata": {},
   "outputs": [],
   "source": [
    "# Convert data from object to numeric to be able to plot\n",
    "\n",
    "stock_data['Open']=stock_data['Open'].astype(float)\n",
    "stock_data['High']=stock_data['High'].astype(float)\n",
    "stock_data['Low']=stock_data['Low'].astype(float)\n",
    "stock_data['Close']=stock_data['Close'].astype(float)\n",
    "stock_data['Volume']=stock_data['Volume'].astype(float)"
   ]
  },
  {
   "cell_type": "markdown",
   "id": "da048804",
   "metadata": {},
   "source": [
    "## Visualize Time Series"
   ]
  },
  {
   "cell_type": "code",
   "execution_count": 56,
   "id": "da3f9071",
   "metadata": {},
   "outputs": [
    {
     "data": {
      "image/png": "[encoded data removed]",
      "text/plain": [
       "<Figure size 432x288 with 1 Axes>"
      ]
     },
     "metadata": {
      "needs_background": "light"
     },
     "output_type": "display_data"
    }
   ],
   "source": [
    "import matplotlib.pyplot as plt\n",
    "stock_data['Close'].plot(title=ticker)\n",
    "plt.show()"
   ]
  },
  {
   "cell_type": "markdown",
   "id": "b8b03791",
   "metadata": {},
   "source": [
    "### Exercises"
   ]
  },
  {
   "cell_type": "markdown",
   "id": "c7f53811",
   "metadata": {},
   "source": [
    "1. Get stock data for a single company"
   ]
  },
  {
   "cell_type": "code",
   "execution_count": null,
   "id": "46c2842b",
   "metadata": {},
   "outputs": [],
   "source": [
    "# Import DataReader\n",
    "from pandas_datareader.data import DataReader\n",
    "\n",
    "# Import date\n",
    "from datetime import date\n",
    "\n",
    "# Set start and end dates\n",
    "start = date(2016,1,1)\n",
    "end = date(2016,12,31)\n",
    "\n",
    "# Set the ticker\n",
    "ticker = 'AAPL'\n",
    "\n",
    "# Set the data source\n",
    "data_source = 'iex'\n",
    "\n",
    "# Import the stock prices\n",
    "stock_prices = DataReader(ticker, data_source, start, end)\n",
    "\n",
    "# Display and inspect the result\n",
    "print(stock_prices.head())\n",
    "stock_prices.info()"
   ]
  },
  {
   "cell_type": "markdown",
   "id": "87dfd847",
   "metadata": {},
   "source": [
    "2. Visualize a stock price trend"
   ]
  },
  {
   "cell_type": "code",
   "execution_count": null,
   "id": "4d6cadef",
   "metadata": {},
   "outputs": [],
   "source": [
    "# Import matplotlib.pyplot\n",
    "import matplotlib.pyplot as plt\n",
    "\n",
    "# Set start and end dates\n",
    "start = date(2016,1,1)\n",
    "end = date(2016,12,31)\n",
    "\n",
    "# Set the ticker and data_source\n",
    "ticker = 'FB'\n",
    "data_source = 'iex'\n",
    "\n",
    "# Import the data using DataReader\n",
    "stock_prices = DataReader(ticker, data_source, start, end)\n",
    "\n",
    "# Plot close\n",
    "stock_prices['close'].plot(title=ticker)\n",
    "\n",
    "# Show the plot\n",
    "plt.show()"
   ]
  },
  {
   "cell_type": "markdown",
   "id": "842520cd",
   "metadata": {},
   "source": [
    "## Economic data from the Federal Reserve "
   ]
  },
  {
   "cell_type": "code",
   "execution_count": 58,
   "id": "a78cd91e",
   "metadata": {},
   "outputs": [
    {
     "name": "stdout",
     "output_type": "stream",
     "text": [
      "<class 'pandas.core.frame.DataFrame'>\n",
      "DatetimeIndex: 16183 entries, 1962-01-02 to 2024-01-11\n",
      "Data columns (total 1 columns):\n",
      " #   Column  Non-Null Count  Dtype  \n",
      "---  ------  --------------  -----  \n",
      " 0   DGS10   15493 non-null  float64\n",
      "dtypes: float64(1)\n",
      "memory usage: 252.9 KB\n"
     ]
    }
   ],
   "source": [
    "from pandas_datareader.data import DataReader\n",
    "from datetime import date\n",
    "series_code = 'DGS10' #10-year Treasury Rate\n",
    "data_source = 'fred' # FED Economic Data Service\n",
    "start = date (1962,1,1) # data since 1962 is available on the website\n",
    "# skip the end date to obtain most recent data\n",
    "data = DataReader(series_code, data_source, start)\n",
    "data.info()"
   ]
  },
  {
   "cell_type": "code",
   "execution_count": 59,
   "id": "84ee9a0d",
   "metadata": {},
   "outputs": [],
   "source": [
    "# Pandas Rename method\n",
    "series_name = '10-year Treasury'\n",
    "data = data.rename(columns={series_code: series_name})"
   ]
  },
  {
   "cell_type": "code",
   "execution_count": 60,
   "id": "b0207ebf",
   "metadata": {},
   "outputs": [
    {
     "data": {
      "image/png": "[encoded data removed]",
      "text/plain": [
       "<Figure size 432x288 with 1 Axes>"
      ]
     },
     "metadata": {
      "needs_background": "light"
     },
     "output_type": "display_data"
    }
   ],
   "source": [
    "# Build a graph\n",
    "data.plot(title=series_name); plt.show()"
   ]
  },
  {
   "cell_type": "markdown",
   "id": "ac4b62fd",
   "metadata": {},
   "source": [
    "## Combine stock and economic data"
   ]
  },
  {
   "cell_type": "code",
   "execution_count": 67,
   "id": "05127c85",
   "metadata": {},
   "outputs": [
    {
     "name": "stdout",
     "output_type": "stream",
     "text": [
      "<class 'pandas.core.frame.DataFrame'>\n",
      "DatetimeIndex: 6270 entries, 2000-01-03 to 2024-01-12\n",
      "Freq: B\n",
      "Data columns (total 2 columns):\n",
      " #   Column      Non-Null Count  Dtype  \n",
      "---  ------      --------------  -----  \n",
      " 0   Close       6045 non-null   float64\n",
      " 1   DCOILWTICO  6026 non-null   float64\n",
      "dtypes: float64(2)\n",
      "memory usage: 147.0 KB\n"
     ]
    }
   ],
   "source": [
    "start = date(2000,1,1)\n",
    "series = 'DCOILWTICO' # West Texas Intermediate Oil Price\n",
    "oil = DataReader(series, 'fred', start)\n",
    "ticker = 'XOM' # Exxon Mobile Corporation\n",
    "stock = DataReader(ticker, 'stooq', start) # Source is Stooq Finance\n",
    "\n",
    "# Combine dataframes\n",
    "data = pd.concat([stock[['Close']], oil], axis=1)\n",
    "\n",
    "data.info()"
   ]
  },
  {
   "cell_type": "code",
   "execution_count": 69,
   "id": "ec5e5e52",
   "metadata": {},
   "outputs": [
    {
     "data": {
      "image/png": "[encoded data removed]",
      "text/plain": [
       "<Figure size 432x288 with 1 Axes>"
      ]
     },
     "metadata": {
      "needs_background": "light"
     },
     "output_type": "display_data"
    }
   ],
   "source": [
    "# Rename the columns by assigning two labels\n",
    "data.columns = ['Exxon', 'Oil Price']\n",
    "data.plot()\n",
    "plt.show()"
   ]
  },
  {
   "cell_type": "markdown",
   "id": "5fa9b62e",
   "metadata": {},
   "source": [
    "### Exercises"
   ]
  },
  {
   "cell_type": "markdown",
   "id": "b7315bce",
   "metadata": {},
   "source": [
    "1. Visualize the long-term oil price trend"
   ]
  },
  {
   "cell_type": "code",
   "execution_count": 71,
   "id": "12bda931",
   "metadata": {},
   "outputs": [
    {
     "name": "stdout",
     "output_type": "stream",
     "text": [
      "<class 'pandas.core.frame.DataFrame'>\n",
      "DatetimeIndex: 672 entries, 1968-01-01 to 2023-12-01\n",
      "Data columns (total 1 columns):\n",
      " #   Column   Non-Null Count  Dtype  \n",
      "---  ------   --------------  -----  \n",
      " 0   WTISPLC  672 non-null    float64\n",
      "dtypes: float64(1)\n",
      "memory usage: 10.5 KB\n"
     ]
    },
    {
     "data": {
      "image/png": "[encoded data removed]",
      "text/plain": [
       "<Figure size 432x288 with 1 Axes>"
      ]
     },
     "metadata": {
      "needs_background": "light"
     },
     "output_type": "display_data"
    }
   ],
   "source": [
    "# Set start date\n",
    "start = date(1968,1,1)\n",
    "\n",
    "# Set series code\n",
    "series = 'WTISPLC'\n",
    "\n",
    "# Import the data\n",
    "oil_price = DataReader(series, 'fred', start)\n",
    "\n",
    "# Inspect the price of oil\n",
    "oil_price.info()\n",
    "\n",
    "# Plot the price of oil\n",
    "oil_price.plot()\n",
    "\n",
    "# Show the plot\n",
    "plt.show()"
   ]
  },
  {
   "cell_type": "markdown",
   "id": "9bca5381",
   "metadata": {},
   "source": [
    "2. Compare labor market participation and unemployment rates"
   ]
  },
  {
   "cell_type": "code",
   "execution_count": 73,
   "id": "f2f8d234",
   "metadata": {},
   "outputs": [
    {
     "data": {
      "image/png": "[encoded data removed]",
      "text/plain": [
       "<Figure size 432x288 with 2 Axes>"
      ]
     },
     "metadata": {
      "needs_background": "light"
     },
     "output_type": "display_data"
    }
   ],
   "source": [
    "# Set the start date\n",
    "start = date(1950,1,1)\n",
    "\n",
    "# Define the series codes\n",
    "series = ['UNRATE', 'CIVPART']\n",
    "\n",
    "# Import the data\n",
    "econ_data = DataReader(series, 'fred', start)\n",
    "\n",
    "# Assign new column labels\n",
    "econ_data.columns = ['Unemployment Rate', 'Participation Rate']\n",
    "\n",
    "# Plot econ_data\n",
    "econ_data.plot(subplots=True, title='Labor Market')\n",
    "\n",
    "# Show the plot\n",
    "plt.show()"
   ]
  },
  {
   "cell_type": "markdown",
   "id": "c2202f28",
   "metadata": {},
   "source": [
    "3. Compare bond and stock performance"
   ]
  },
  {
   "cell_type": "code",
   "execution_count": 75,
   "id": "f2eefc77",
   "metadata": {},
   "outputs": [
    {
     "data": {
      "image/png": "[encoded data removed]",
      "text/plain": [
       "<Figure size 432x288 with 2 Axes>"
      ]
     },
     "metadata": {
      "needs_background": "light"
     },
     "output_type": "display_data"
    }
   ],
   "source": [
    "# Set the start date\n",
    "start = date(2008,1,1)\n",
    "\n",
    "# Set the series codes\n",
    "series = ['BAMLHYH0A0HYM2TRIV', 'SP500'] #Bank of America Merrill Lynch US High Yield Total Return Index Value and S&P 500 Index\n",
    "\n",
    "# Import the data\n",
    "data = DataReader(series, 'fred', start)\n",
    "\n",
    "# Plot the results\n",
    "data.plot(subplots=True, title='Performance Comparison')\n",
    "\n",
    "# Show the plot\n",
    "plt.show()"
   ]
  },
  {
   "cell_type": "markdown",
   "id": "9176cfc7",
   "metadata": {},
   "source": [
    "## Select stocks and get data from Stooq Finance"
   ]
  },
  {
   "cell_type": "markdown",
   "id": "15dc6c5b",
   "metadata": {},
   "source": [
    "How to select stocks based on conditions. Criteria: Stock Exchange, Sector/Industry, IPO Year, Mkt Capitalization or a combination of these."
   ]
  },
  {
   "cell_type": "markdown",
   "id": "74d91d7d",
   "metadata": {},
   "source": [
    "1. Select the stock ticker for the largest company by market capitalization listed on the NYSE"
   ]
  },
  {
   "cell_type": "code",
   "execution_count": 77,
   "id": "9b2f0c2a",
   "metadata": {},
   "outputs": [
    {
     "data": {
      "text/html": [
       "<div>\n",
       "<style scoped>\n",
       "    .dataframe tbody tr th:only-of-type {\n",
       "        vertical-align: middle;\n",
       "    }\n",
       "\n",
       "    .dataframe tbody tr th {\n",
       "        vertical-align: top;\n",
       "    }\n",
       "\n",
       "    .dataframe thead th {\n",
       "        text-align: right;\n",
       "    }\n",
       "</style>\n",
       "<table border=\"1\" class=\"dataframe\">\n",
       "  <thead>\n",
       "    <tr style=\"text-align: right;\">\n",
       "      <th></th>\n",
       "      <th>Stock Symbol</th>\n",
       "      <th>Company Name</th>\n",
       "    </tr>\n",
       "  </thead>\n",
       "  <tbody>\n",
       "    <tr>\n",
       "      <th>1586</th>\n",
       "      <td>JNJ</td>\n",
       "      <td>Johnson &amp; Johnson</td>\n",
       "    </tr>\n",
       "    <tr>\n",
       "      <th>1125</th>\n",
       "      <td>XOM</td>\n",
       "      <td>Exxon Mobil Corporation</td>\n",
       "    </tr>\n",
       "    <tr>\n",
       "      <th>1548</th>\n",
       "      <td>JPM</td>\n",
       "      <td>J P Morgan Chase &amp; Co</td>\n",
       "    </tr>\n",
       "  </tbody>\n",
       "</table>\n",
       "</div>"
      ],
      "text/plain": [
       "     Stock Symbol             Company Name\n",
       "1586          JNJ        Johnson & Johnson\n",
       "1125          XOM  Exxon Mobil Corporation\n",
       "1548          JPM    J P Morgan Chase & Co"
      ]
     },
     "execution_count": 77,
     "metadata": {},
     "output_type": "execute_result"
    }
   ],
   "source": [
    "# Import the companies listed on this exchange\n",
    "\n",
    "nyse = pd.read_excel('listings.xlsx', sheet_name='nyse', na_values='n/a')\n",
    "\n",
    "# Sort the data by market capitalization in descending order\n",
    "\n",
    "nyse = nyse.sort_values('Market Capitalization', ascending = False)\n",
    "\n",
    "# Display first 3 rows\n",
    "\n",
    "nyse[['Stock Symbol', 'Company Name']].head(3)"
   ]
  },
  {
   "cell_type": "code",
   "execution_count": 81,
   "id": "0e861847",
   "metadata": {},
   "outputs": [
    {
     "data": {
      "text/plain": [
       "'JNJ'"
      ]
     },
     "execution_count": 81,
     "metadata": {},
     "output_type": "execute_result"
    }
   ],
   "source": [
    "# Use dot-iloc to select the first row of the sorted DataFrame\n",
    "\n",
    "largest_by_market_cap = nyse.iloc[0]\n",
    "largest_by_market_cap['Stock Symbol']"
   ]
  },
  {
   "cell_type": "code",
   "execution_count": 83,
   "id": "5424f92c",
   "metadata": {},
   "outputs": [
    {
     "name": "stdout",
     "output_type": "stream",
     "text": [
      "<class 'pandas.core.frame.DataFrame'>\n",
      "Index: 3147 entries, JNJ to EAE\n",
      "Data columns (total 6 columns):\n",
      " #   Column                 Non-Null Count  Dtype  \n",
      "---  ------                 --------------  -----  \n",
      " 0   Company Name           3147 non-null   object \n",
      " 1   Last Sale              3079 non-null   float64\n",
      " 2   Market Capitalization  3147 non-null   float64\n",
      " 3   IPO Year               1361 non-null   float64\n",
      " 4   Sector                 2177 non-null   object \n",
      " 5   Industry               2177 non-null   object \n",
      "dtypes: float64(3), object(3)\n",
      "memory usage: 172.1+ KB\n"
     ]
    }
   ],
   "source": [
    "# Another Way to do this\n",
    "\n",
    "# Use set_index to move the stock symbol into the index of the DataFrame\n",
    "\n",
    "nyse = nyse.set_index('Stock Symbol')\n",
    "nyse.info()"
   ]
  },
  {
   "cell_type": "code",
   "execution_count": 84,
   "id": "9b1d4fb7",
   "metadata": {},
   "outputs": [
    {
     "data": {
      "text/plain": [
       "'JNJ'"
      ]
     },
     "execution_count": 84,
     "metadata": {},
     "output_type": "execute_result"
    }
   ],
   "source": [
    "# Use the method idxmax\n",
    "\n",
    "nyse['Market Capitalization'].idxmax()"
   ]
  },
  {
   "cell_type": "markdown",
   "id": "f6840f88",
   "metadata": {},
   "source": [
    "2. Get ticker for the largest tech company"
   ]
  },
  {
   "cell_type": "code",
   "execution_count": 85,
   "id": "1d341842",
   "metadata": {},
   "outputs": [
    {
     "data": {
      "text/plain": [
       "array(['Health Care', 'Energy', 'Finance', 'Miscellaneous',\n",
       "       'Public Utilities', 'Basic Industries', 'Consumer Services',\n",
       "       'Consumer Non-Durables', 'Technology', 'Capital Goods',\n",
       "       'Transportation', 'Consumer Durables', nan], dtype=object)"
      ]
     },
     "execution_count": 85,
     "metadata": {},
     "output_type": "execute_result"
    }
   ],
   "source": [
    "# Use dot-unique method to return the unique values in a given column\n",
    "\n",
    "nyse['Sector'].unique()"
   ]
  },
  {
   "cell_type": "code",
   "execution_count": 86,
   "id": "55a0437f",
   "metadata": {},
   "outputs": [
    {
     "data": {
      "text/plain": [
       "Stock Symbol\n",
       "ORCL                                 Oracle Corporation\n",
       "TSM     Taiwan Semiconductor Manufacturing Company Ltd.\n",
       "Name: Company Name, dtype: object"
      ]
     },
     "execution_count": 86,
     "metadata": {},
     "output_type": "execute_result"
    }
   ],
   "source": [
    "# Pass the condition to the loc selector\n",
    "\n",
    "tech = nyse.loc[nyse.Sector == 'Technology']\n",
    "tech['Company Name'].head(2)"
   ]
  },
  {
   "cell_type": "code",
   "execution_count": 87,
   "id": "84f734c6",
   "metadata": {},
   "outputs": [
    {
     "data": {
      "text/plain": [
       "'ORCL'"
      ]
     },
     "execution_count": 87,
     "metadata": {},
     "output_type": "execute_result"
    }
   ],
   "source": [
    "nyse.loc[nyse.Sector == 'Technology', 'Market Capitalization'].idxmax()"
   ]
  },
  {
   "cell_type": "markdown",
   "id": "3a83e6bd",
   "metadata": {},
   "source": [
    "3. Get data for the largest tech company with 2017 IPO"
   ]
  },
  {
   "cell_type": "code",
   "execution_count": 89,
   "id": "1d8394d7",
   "metadata": {},
   "outputs": [],
   "source": [
    "ticker = nyse.loc[(nyse.Sector == 'Technology') & (nyse['IPO Year']==2017), 'Market Capitalization'].idxmax()"
   ]
  },
  {
   "cell_type": "code",
   "execution_count": 90,
   "id": "69ff7f3e",
   "metadata": {},
   "outputs": [
    {
     "data": {
      "text/plain": [
       "'SNAP'"
      ]
     },
     "execution_count": 90,
     "metadata": {},
     "output_type": "execute_result"
    }
   ],
   "source": [
    "ticker"
   ]
  },
  {
   "cell_type": "code",
   "execution_count": 92,
   "id": "a675b9ed",
   "metadata": {},
   "outputs": [
    {
     "data": {
      "image/png": "[encoded data removed]",
      "text/plain": [
       "<Figure size 432x288 with 2 Axes>"
      ]
     },
     "metadata": {
      "needs_background": "light"
     },
     "output_type": "display_data"
    }
   ],
   "source": [
    "# Get financial data from Stooq\n",
    "\n",
    "data = DataReader(ticker, 'stooq') # Omit the start date to get all the data available\n",
    "data = data.loc[:,['Close','Volume']]\n",
    "\n",
    "# Plot data\n",
    "\n",
    "data.plot(title=ticker, secondary_y='Volume')\n",
    "plt.tight_layout(); plt.show() # Feature Tight Layout improves white space in plot"
   ]
  },
  {
   "cell_type": "markdown",
   "id": "e3da9759",
   "metadata": {},
   "source": [
    "## Get several stocks & manage a MultiIndex"
   ]
  },
  {
   "cell_type": "markdown",
   "id": "6a8441fa",
   "metadata": {},
   "source": [
    "How to retrieve several stocks from the web and how to manage a DataFrame with more than a single Index."
   ]
  },
  {
   "cell_type": "markdown",
   "id": "4075bf4b",
   "metadata": {},
   "source": [
    "1. Load prices for top 5 companies"
   ]
  },
  {
   "cell_type": "code",
   "execution_count": 96,
   "id": "8e3bbbbb",
   "metadata": {},
   "outputs": [
    {
     "data": {
      "text/plain": [
       "Stock Symbol\n",
       "AAPL     740024.467000\n",
       "GOOGL    580917.530339\n",
       "GOOG     569426.124504\n",
       "MSFT     501903.061809\n",
       "AMZN     422138.530626\n",
       "Name: Market Capitalization, dtype: float64"
      ]
     },
     "execution_count": 96,
     "metadata": {},
     "output_type": "execute_result"
    }
   ],
   "source": [
    "nasdaq = pd.read_excel('listings.xlsx', sheet_name='nasdaq', na_values='n/a')\n",
    "\n",
    "# move company ticker to  the index\n",
    "\n",
    "nasdaq.set_index('Stock Symbol', inplace=True)\n",
    "\n",
    "# apply the method nlargest to get the largest 5 in the column Mkt Cap\n",
    "\n",
    "top_5 = nasdaq['Market Capitalization'].nlargest(n=5) \n",
    "top_5.div(1000000) # Market Cap in million USD"
   ]
  },
  {
   "cell_type": "code",
   "execution_count": 109,
   "id": "f39e2e1d",
   "metadata": {},
   "outputs": [
    {
     "data": {
      "text/plain": [
       "['AAPL', 'GOOGL', 'GOOG', 'MSFT', 'AMZN']"
      ]
     },
     "execution_count": 109,
     "metadata": {},
     "output_type": "execute_result"
    }
   ],
   "source": [
    "# Convert index to list\n",
    "\n",
    "tickers = top_5.index.tolist()\n",
    "tickers"
   ]
  },
  {
   "cell_type": "code",
   "execution_count": 110,
   "id": "af3645e1",
   "metadata": {},
   "outputs": [],
   "source": [
    "# Pass the list directly to DataReader to get all the info in a single call\n",
    "\n",
    "df = DataReader(tickers, 'stooq', start=date(2020,1,1))"
   ]
  },
  {
   "cell_type": "code",
   "execution_count": 111,
   "id": "7f06695f",
   "metadata": {},
   "outputs": [
    {
     "name": "stdout",
     "output_type": "stream",
     "text": [
      "<class 'pandas.core.frame.DataFrame'>\n",
      "DatetimeIndex: 1015 entries, 2024-01-12 to 2020-01-02\n",
      "Data columns (total 25 columns):\n",
      " #   Column           Non-Null Count  Dtype  \n",
      "---  ------           --------------  -----  \n",
      " 0   (Close, AAPL)    1015 non-null   float64\n",
      " 1   (Close, GOOGL)   1015 non-null   float64\n",
      " 2   (Close, GOOG)    1015 non-null   float64\n",
      " 3   (Close, MSFT)    1015 non-null   float64\n",
      " 4   (Close, AMZN)    1015 non-null   float64\n",
      " 5   (High, AAPL)     1015 non-null   float64\n",
      " 6   (High, GOOGL)    1015 non-null   float64\n",
      " 7   (High, GOOG)     1015 non-null   float64\n",
      " 8   (High, MSFT)     1015 non-null   float64\n",
      " 9   (High, AMZN)     1015 non-null   float64\n",
      " 10  (Low, AAPL)      1015 non-null   float64\n",
      " 11  (Low, GOOGL)     1015 non-null   float64\n",
      " 12  (Low, GOOG)      1015 non-null   float64\n",
      " 13  (Low, MSFT)      1015 non-null   float64\n",
      " 14  (Low, AMZN)      1015 non-null   float64\n",
      " 15  (Open, AAPL)     1015 non-null   float64\n",
      " 16  (Open, GOOGL)    1015 non-null   float64\n",
      " 17  (Open, GOOG)     1015 non-null   float64\n",
      " 18  (Open, MSFT)     1015 non-null   float64\n",
      " 19  (Open, AMZN)     1015 non-null   float64\n",
      " 20  (Volume, AAPL)   1015 non-null   float64\n",
      " 21  (Volume, GOOGL)  1015 non-null   float64\n",
      " 22  (Volume, GOOG)   1015 non-null   float64\n",
      " 23  (Volume, MSFT)   1015 non-null   float64\n",
      " 24  (Volume, AMZN)   1015 non-null   float64\n",
      "dtypes: float64(25)\n",
      "memory usage: 206.2 KB\n"
     ]
    }
   ],
   "source": [
    "# The result is a df with two column levels - tickers and names\n",
    "df.info()"
   ]
  },
  {
   "cell_type": "code",
   "execution_count": 112,
   "id": "2b4fc7b5",
   "metadata": {},
   "outputs": [
    {
     "data": {
      "text/html": [
       "<div>\n",
       "<style scoped>\n",
       "    .dataframe tbody tr th:only-of-type {\n",
       "        vertical-align: middle;\n",
       "    }\n",
       "\n",
       "    .dataframe tbody tr th {\n",
       "        vertical-align: top;\n",
       "    }\n",
       "\n",
       "    .dataframe thead tr th {\n",
       "        text-align: left;\n",
       "    }\n",
       "\n",
       "    .dataframe thead tr:last-of-type th {\n",
       "        text-align: right;\n",
       "    }\n",
       "</style>\n",
       "<table border=\"1\" class=\"dataframe\">\n",
       "  <thead>\n",
       "    <tr>\n",
       "      <th>Attributes</th>\n",
       "      <th colspan=\"5\" halign=\"left\">Close</th>\n",
       "      <th colspan=\"5\" halign=\"left\">High</th>\n",
       "      <th>...</th>\n",
       "      <th colspan=\"5\" halign=\"left\">Open</th>\n",
       "      <th colspan=\"5\" halign=\"left\">Volume</th>\n",
       "    </tr>\n",
       "    <tr>\n",
       "      <th>Symbols</th>\n",
       "      <th>AAPL</th>\n",
       "      <th>GOOGL</th>\n",
       "      <th>GOOG</th>\n",
       "      <th>MSFT</th>\n",
       "      <th>AMZN</th>\n",
       "      <th>AAPL</th>\n",
       "      <th>GOOGL</th>\n",
       "      <th>GOOG</th>\n",
       "      <th>MSFT</th>\n",
       "      <th>AMZN</th>\n",
       "      <th>...</th>\n",
       "      <th>AAPL</th>\n",
       "      <th>GOOGL</th>\n",
       "      <th>GOOG</th>\n",
       "      <th>MSFT</th>\n",
       "      <th>AMZN</th>\n",
       "      <th>AAPL</th>\n",
       "      <th>GOOGL</th>\n",
       "      <th>GOOG</th>\n",
       "      <th>MSFT</th>\n",
       "      <th>AMZN</th>\n",
       "    </tr>\n",
       "    <tr>\n",
       "      <th>Date</th>\n",
       "      <th></th>\n",
       "      <th></th>\n",
       "      <th></th>\n",
       "      <th></th>\n",
       "      <th></th>\n",
       "      <th></th>\n",
       "      <th></th>\n",
       "      <th></th>\n",
       "      <th></th>\n",
       "      <th></th>\n",
       "      <th></th>\n",
       "      <th></th>\n",
       "      <th></th>\n",
       "      <th></th>\n",
       "      <th></th>\n",
       "      <th></th>\n",
       "      <th></th>\n",
       "      <th></th>\n",
       "      <th></th>\n",
       "      <th></th>\n",
       "      <th></th>\n",
       "    </tr>\n",
       "  </thead>\n",
       "  <tbody>\n",
       "    <tr>\n",
       "      <th>2024-01-12</th>\n",
       "      <td>185.9200</td>\n",
       "      <td>142.6500</td>\n",
       "      <td>144.2400</td>\n",
       "      <td>388.470</td>\n",
       "      <td>154.6200</td>\n",
       "      <td>186.7400</td>\n",
       "      <td>143.1950</td>\n",
       "      <td>144.7400</td>\n",
       "      <td>388.680</td>\n",
       "      <td>156.2000</td>\n",
       "      <td>...</td>\n",
       "      <td>186.0600</td>\n",
       "      <td>142.6700</td>\n",
       "      <td>144.3400</td>\n",
       "      <td>385.490</td>\n",
       "      <td>155.390</td>\n",
       "      <td>4.047778e+07</td>\n",
       "      <td>18785514.0</td>\n",
       "      <td>13998729.0</td>\n",
       "      <td>2.166115e+07</td>\n",
       "      <td>40484155.0</td>\n",
       "    </tr>\n",
       "    <tr>\n",
       "      <th>2024-01-11</th>\n",
       "      <td>185.5900</td>\n",
       "      <td>142.0800</td>\n",
       "      <td>143.6700</td>\n",
       "      <td>384.630</td>\n",
       "      <td>155.1800</td>\n",
       "      <td>187.0500</td>\n",
       "      <td>145.2200</td>\n",
       "      <td>146.6600</td>\n",
       "      <td>390.680</td>\n",
       "      <td>157.1700</td>\n",
       "      <td>...</td>\n",
       "      <td>186.5400</td>\n",
       "      <td>143.4900</td>\n",
       "      <td>144.8950</td>\n",
       "      <td>386.000</td>\n",
       "      <td>155.040</td>\n",
       "      <td>4.912841e+07</td>\n",
       "      <td>24008722.0</td>\n",
       "      <td>17471130.0</td>\n",
       "      <td>2.785085e+07</td>\n",
       "      <td>49072691.0</td>\n",
       "    </tr>\n",
       "    <tr>\n",
       "      <th>2024-01-10</th>\n",
       "      <td>186.1900</td>\n",
       "      <td>142.2800</td>\n",
       "      <td>143.8000</td>\n",
       "      <td>382.770</td>\n",
       "      <td>153.7300</td>\n",
       "      <td>186.4000</td>\n",
       "      <td>143.0000</td>\n",
       "      <td>144.5250</td>\n",
       "      <td>384.170</td>\n",
       "      <td>154.4200</td>\n",
       "      <td>...</td>\n",
       "      <td>184.3500</td>\n",
       "      <td>141.0000</td>\n",
       "      <td>142.5200</td>\n",
       "      <td>376.370</td>\n",
       "      <td>152.060</td>\n",
       "      <td>4.679291e+07</td>\n",
       "      <td>21320203.0</td>\n",
       "      <td>16641881.0</td>\n",
       "      <td>2.551424e+07</td>\n",
       "      <td>44421830.0</td>\n",
       "    </tr>\n",
       "    <tr>\n",
       "      <th>2024-01-09</th>\n",
       "      <td>185.1400</td>\n",
       "      <td>140.9500</td>\n",
       "      <td>142.5600</td>\n",
       "      <td>375.790</td>\n",
       "      <td>151.3700</td>\n",
       "      <td>185.1500</td>\n",
       "      <td>141.4850</td>\n",
       "      <td>142.7998</td>\n",
       "      <td>375.990</td>\n",
       "      <td>151.7100</td>\n",
       "      <td>...</td>\n",
       "      <td>183.9200</td>\n",
       "      <td>138.5000</td>\n",
       "      <td>140.0600</td>\n",
       "      <td>372.010</td>\n",
       "      <td>148.330</td>\n",
       "      <td>4.284181e+07</td>\n",
       "      <td>24759598.0</td>\n",
       "      <td>19579667.0</td>\n",
       "      <td>2.082995e+07</td>\n",
       "      <td>43812567.0</td>\n",
       "    </tr>\n",
       "    <tr>\n",
       "      <th>2024-01-08</th>\n",
       "      <td>185.5600</td>\n",
       "      <td>138.8400</td>\n",
       "      <td>140.5300</td>\n",
       "      <td>374.690</td>\n",
       "      <td>149.1000</td>\n",
       "      <td>185.6000</td>\n",
       "      <td>139.0100</td>\n",
       "      <td>140.6400</td>\n",
       "      <td>375.200</td>\n",
       "      <td>149.4000</td>\n",
       "      <td>...</td>\n",
       "      <td>182.0850</td>\n",
       "      <td>136.2900</td>\n",
       "      <td>138.0000</td>\n",
       "      <td>369.300</td>\n",
       "      <td>146.740</td>\n",
       "      <td>5.914447e+07</td>\n",
       "      <td>21403982.0</td>\n",
       "      <td>17645293.0</td>\n",
       "      <td>2.313397e+07</td>\n",
       "      <td>46757053.0</td>\n",
       "    </tr>\n",
       "    <tr>\n",
       "      <th>...</th>\n",
       "      <td>...</td>\n",
       "      <td>...</td>\n",
       "      <td>...</td>\n",
       "      <td>...</td>\n",
       "      <td>...</td>\n",
       "      <td>...</td>\n",
       "      <td>...</td>\n",
       "      <td>...</td>\n",
       "      <td>...</td>\n",
       "      <td>...</td>\n",
       "      <td>...</td>\n",
       "      <td>...</td>\n",
       "      <td>...</td>\n",
       "      <td>...</td>\n",
       "      <td>...</td>\n",
       "      <td>...</td>\n",
       "      <td>...</td>\n",
       "      <td>...</td>\n",
       "      <td>...</td>\n",
       "      <td>...</td>\n",
       "      <td>...</td>\n",
       "    </tr>\n",
       "    <tr>\n",
       "      <th>2020-01-08</th>\n",
       "      <td>74.2575</td>\n",
       "      <td>70.2520</td>\n",
       "      <td>70.2160</td>\n",
       "      <td>155.656</td>\n",
       "      <td>94.5985</td>\n",
       "      <td>74.5626</td>\n",
       "      <td>70.5925</td>\n",
       "      <td>70.5790</td>\n",
       "      <td>156.301</td>\n",
       "      <td>95.5500</td>\n",
       "      <td>...</td>\n",
       "      <td>72.7810</td>\n",
       "      <td>69.7410</td>\n",
       "      <td>69.6040</td>\n",
       "      <td>154.514</td>\n",
       "      <td>94.902</td>\n",
       "      <td>1.351095e+08</td>\n",
       "      <td>35325480.0</td>\n",
       "      <td>30583540.0</td>\n",
       "      <td>2.855639e+07</td>\n",
       "      <td>70239320.0</td>\n",
       "    </tr>\n",
       "    <tr>\n",
       "      <th>2020-01-07</th>\n",
       "      <td>73.0831</td>\n",
       "      <td>69.7555</td>\n",
       "      <td>69.6670</td>\n",
       "      <td>153.183</td>\n",
       "      <td>95.3430</td>\n",
       "      <td>73.6972</td>\n",
       "      <td>70.1750</td>\n",
       "      <td>70.1495</td>\n",
       "      <td>155.249</td>\n",
       "      <td>95.6945</td>\n",
       "      <td>...</td>\n",
       "      <td>73.4350</td>\n",
       "      <td>70.0230</td>\n",
       "      <td>69.8970</td>\n",
       "      <td>154.900</td>\n",
       "      <td>95.225</td>\n",
       "      <td>1.138238e+08</td>\n",
       "      <td>34529120.0</td>\n",
       "      <td>30233860.0</td>\n",
       "      <td>2.250785e+07</td>\n",
       "      <td>82680200.0</td>\n",
       "    </tr>\n",
       "    <tr>\n",
       "      <th>2020-01-06</th>\n",
       "      <td>73.4250</td>\n",
       "      <td>69.8905</td>\n",
       "      <td>69.7105</td>\n",
       "      <td>154.613</td>\n",
       "      <td>95.1440</td>\n",
       "      <td>73.4649</td>\n",
       "      <td>69.9160</td>\n",
       "      <td>69.8250</td>\n",
       "      <td>154.683</td>\n",
       "      <td>95.1845</td>\n",
       "      <td>...</td>\n",
       "      <td>71.9515</td>\n",
       "      <td>67.5815</td>\n",
       "      <td>67.5000</td>\n",
       "      <td>152.688</td>\n",
       "      <td>93.000</td>\n",
       "      <td>1.210384e+08</td>\n",
       "      <td>46786860.0</td>\n",
       "      <td>34662980.0</td>\n",
       "      <td>2.142262e+07</td>\n",
       "      <td>81313960.0</td>\n",
       "    </tr>\n",
       "    <tr>\n",
       "      <th>2020-01-03</th>\n",
       "      <td>72.8488</td>\n",
       "      <td>68.0760</td>\n",
       "      <td>68.0330</td>\n",
       "      <td>154.216</td>\n",
       "      <td>93.7485</td>\n",
       "      <td>73.6185</td>\n",
       "      <td>68.6875</td>\n",
       "      <td>68.6250</td>\n",
       "      <td>155.517</td>\n",
       "      <td>94.3100</td>\n",
       "      <td>...</td>\n",
       "      <td>72.7790</td>\n",
       "      <td>67.4000</td>\n",
       "      <td>67.3930</td>\n",
       "      <td>153.918</td>\n",
       "      <td>93.225</td>\n",
       "      <td>1.495753e+08</td>\n",
       "      <td>23412580.0</td>\n",
       "      <td>23740120.0</td>\n",
       "      <td>2.172604e+07</td>\n",
       "      <td>75332080.0</td>\n",
       "    </tr>\n",
       "    <tr>\n",
       "      <th>2020-01-02</th>\n",
       "      <td>73.5616</td>\n",
       "      <td>68.4340</td>\n",
       "      <td>68.3685</td>\n",
       "      <td>156.133</td>\n",
       "      <td>94.9005</td>\n",
       "      <td>73.6225</td>\n",
       "      <td>68.4340</td>\n",
       "      <td>68.4070</td>\n",
       "      <td>156.231</td>\n",
       "      <td>94.9005</td>\n",
       "      <td>...</td>\n",
       "      <td>72.5537</td>\n",
       "      <td>67.4205</td>\n",
       "      <td>67.0775</td>\n",
       "      <td>154.365</td>\n",
       "      <td>93.750</td>\n",
       "      <td>1.384613e+08</td>\n",
       "      <td>27285300.0</td>\n",
       "      <td>28134620.0</td>\n",
       "      <td>2.328220e+07</td>\n",
       "      <td>80718200.0</td>\n",
       "    </tr>\n",
       "  </tbody>\n",
       "</table>\n",
       "<p>1015 rows × 25 columns</p>\n",
       "</div>"
      ],
      "text/plain": [
       "Attributes     Close                                             High  \\\n",
       "Symbols         AAPL     GOOGL      GOOG     MSFT      AMZN      AAPL   \n",
       "Date                                                                    \n",
       "2024-01-12  185.9200  142.6500  144.2400  388.470  154.6200  186.7400   \n",
       "2024-01-11  185.5900  142.0800  143.6700  384.630  155.1800  187.0500   \n",
       "2024-01-10  186.1900  142.2800  143.8000  382.770  153.7300  186.4000   \n",
       "2024-01-09  185.1400  140.9500  142.5600  375.790  151.3700  185.1500   \n",
       "2024-01-08  185.5600  138.8400  140.5300  374.690  149.1000  185.6000   \n",
       "...              ...       ...       ...      ...       ...       ...   \n",
       "2020-01-08   74.2575   70.2520   70.2160  155.656   94.5985   74.5626   \n",
       "2020-01-07   73.0831   69.7555   69.6670  153.183   95.3430   73.6972   \n",
       "2020-01-06   73.4250   69.8905   69.7105  154.613   95.1440   73.4649   \n",
       "2020-01-03   72.8488   68.0760   68.0330  154.216   93.7485   73.6185   \n",
       "2020-01-02   73.5616   68.4340   68.3685  156.133   94.9005   73.6225   \n",
       "\n",
       "Attributes                                         ...      Open            \\\n",
       "Symbols        GOOGL      GOOG     MSFT      AMZN  ...      AAPL     GOOGL   \n",
       "Date                                               ...                       \n",
       "2024-01-12  143.1950  144.7400  388.680  156.2000  ...  186.0600  142.6700   \n",
       "2024-01-11  145.2200  146.6600  390.680  157.1700  ...  186.5400  143.4900   \n",
       "2024-01-10  143.0000  144.5250  384.170  154.4200  ...  184.3500  141.0000   \n",
       "2024-01-09  141.4850  142.7998  375.990  151.7100  ...  183.9200  138.5000   \n",
       "2024-01-08  139.0100  140.6400  375.200  149.4000  ...  182.0850  136.2900   \n",
       "...              ...       ...      ...       ...  ...       ...       ...   \n",
       "2020-01-08   70.5925   70.5790  156.301   95.5500  ...   72.7810   69.7410   \n",
       "2020-01-07   70.1750   70.1495  155.249   95.6945  ...   73.4350   70.0230   \n",
       "2020-01-06   69.9160   69.8250  154.683   95.1845  ...   71.9515   67.5815   \n",
       "2020-01-03   68.6875   68.6250  155.517   94.3100  ...   72.7790   67.4000   \n",
       "2020-01-02   68.4340   68.4070  156.231   94.9005  ...   72.5537   67.4205   \n",
       "\n",
       "Attributes                                    Volume                          \\\n",
       "Symbols         GOOG     MSFT     AMZN          AAPL       GOOGL        GOOG   \n",
       "Date                                                                           \n",
       "2024-01-12  144.3400  385.490  155.390  4.047778e+07  18785514.0  13998729.0   \n",
       "2024-01-11  144.8950  386.000  155.040  4.912841e+07  24008722.0  17471130.0   \n",
       "2024-01-10  142.5200  376.370  152.060  4.679291e+07  21320203.0  16641881.0   \n",
       "2024-01-09  140.0600  372.010  148.330  4.284181e+07  24759598.0  19579667.0   \n",
       "2024-01-08  138.0000  369.300  146.740  5.914447e+07  21403982.0  17645293.0   \n",
       "...              ...      ...      ...           ...         ...         ...   \n",
       "2020-01-08   69.6040  154.514   94.902  1.351095e+08  35325480.0  30583540.0   \n",
       "2020-01-07   69.8970  154.900   95.225  1.138238e+08  34529120.0  30233860.0   \n",
       "2020-01-06   67.5000  152.688   93.000  1.210384e+08  46786860.0  34662980.0   \n",
       "2020-01-03   67.3930  153.918   93.225  1.495753e+08  23412580.0  23740120.0   \n",
       "2020-01-02   67.0775  154.365   93.750  1.384613e+08  27285300.0  28134620.0   \n",
       "\n",
       "Attributes                            \n",
       "Symbols             MSFT        AMZN  \n",
       "Date                                  \n",
       "2024-01-12  2.166115e+07  40484155.0  \n",
       "2024-01-11  2.785085e+07  49072691.0  \n",
       "2024-01-10  2.551424e+07  44421830.0  \n",
       "2024-01-09  2.082995e+07  43812567.0  \n",
       "2024-01-08  2.313397e+07  46757053.0  \n",
       "...                  ...         ...  \n",
       "2020-01-08  2.855639e+07  70239320.0  \n",
       "2020-01-07  2.250785e+07  82680200.0  \n",
       "2020-01-06  2.142262e+07  81313960.0  \n",
       "2020-01-03  2.172604e+07  75332080.0  \n",
       "2020-01-02  2.328220e+07  80718200.0  \n",
       "\n",
       "[1015 rows x 25 columns]"
      ]
     },
     "execution_count": 112,
     "metadata": {},
     "output_type": "execute_result"
    }
   ],
   "source": [
    "df"
   ]
  },
  {
   "cell_type": "code",
   "execution_count": 113,
   "id": "5d09268e",
   "metadata": {},
   "outputs": [
    {
     "name": "stdout",
     "output_type": "stream",
     "text": [
      "<class 'pandas.core.frame.DataFrame'>\n",
      "MultiIndex: 5075 entries, (Timestamp('2024-01-12 00:00:00'), 'AAPL') to (Timestamp('2020-01-02 00:00:00'), 'AMZN')\n",
      "Data columns (total 5 columns):\n",
      " #   Column  Non-Null Count  Dtype  \n",
      "---  ------  --------------  -----  \n",
      " 0   Close   5075 non-null   float64\n",
      " 1   High    5075 non-null   float64\n",
      " 2   Low     5075 non-null   float64\n",
      " 3   Open    5075 non-null   float64\n",
      " 4   Volume  5075 non-null   float64\n",
      "dtypes: float64(5)\n",
      "memory usage: 253.6+ KB\n"
     ]
    }
   ],
   "source": [
    "# Use method stack to move the ticker level to the index to have a single \n",
    "# level of column headers\n",
    "\n",
    "df = df.stack()\n",
    "df.info()"
   ]
  },
  {
   "cell_type": "code",
   "execution_count": 114,
   "id": "b7cb9575",
   "metadata": {},
   "outputs": [
    {
     "data": {
      "text/html": [
       "<div>\n",
       "<style scoped>\n",
       "    .dataframe tbody tr th:only-of-type {\n",
       "        vertical-align: middle;\n",
       "    }\n",
       "\n",
       "    .dataframe tbody tr th {\n",
       "        vertical-align: top;\n",
       "    }\n",
       "\n",
       "    .dataframe thead th {\n",
       "        text-align: right;\n",
       "    }\n",
       "</style>\n",
       "<table border=\"1\" class=\"dataframe\">\n",
       "  <thead>\n",
       "    <tr style=\"text-align: right;\">\n",
       "      <th></th>\n",
       "      <th>Attributes</th>\n",
       "      <th>Close</th>\n",
       "      <th>High</th>\n",
       "      <th>Low</th>\n",
       "      <th>Open</th>\n",
       "      <th>Volume</th>\n",
       "    </tr>\n",
       "    <tr>\n",
       "      <th>Date</th>\n",
       "      <th>Symbols</th>\n",
       "      <th></th>\n",
       "      <th></th>\n",
       "      <th></th>\n",
       "      <th></th>\n",
       "      <th></th>\n",
       "    </tr>\n",
       "  </thead>\n",
       "  <tbody>\n",
       "    <tr>\n",
       "      <th rowspan=\"5\" valign=\"top\">2024-01-12</th>\n",
       "      <th>AAPL</th>\n",
       "      <td>185.9200</td>\n",
       "      <td>186.7400</td>\n",
       "      <td>185.1900</td>\n",
       "      <td>186.0600</td>\n",
       "      <td>4.047778e+07</td>\n",
       "    </tr>\n",
       "    <tr>\n",
       "      <th>GOOGL</th>\n",
       "      <td>142.6500</td>\n",
       "      <td>143.1950</td>\n",
       "      <td>141.8200</td>\n",
       "      <td>142.6700</td>\n",
       "      <td>1.878551e+07</td>\n",
       "    </tr>\n",
       "    <tr>\n",
       "      <th>GOOG</th>\n",
       "      <td>144.2400</td>\n",
       "      <td>144.7400</td>\n",
       "      <td>143.3600</td>\n",
       "      <td>144.3400</td>\n",
       "      <td>1.399873e+07</td>\n",
       "    </tr>\n",
       "    <tr>\n",
       "      <th>MSFT</th>\n",
       "      <td>388.4700</td>\n",
       "      <td>388.6800</td>\n",
       "      <td>384.6500</td>\n",
       "      <td>385.4900</td>\n",
       "      <td>2.166115e+07</td>\n",
       "    </tr>\n",
       "    <tr>\n",
       "      <th>AMZN</th>\n",
       "      <td>154.6200</td>\n",
       "      <td>156.2000</td>\n",
       "      <td>154.0100</td>\n",
       "      <td>155.3900</td>\n",
       "      <td>4.048416e+07</td>\n",
       "    </tr>\n",
       "    <tr>\n",
       "      <th>...</th>\n",
       "      <th>...</th>\n",
       "      <td>...</td>\n",
       "      <td>...</td>\n",
       "      <td>...</td>\n",
       "      <td>...</td>\n",
       "      <td>...</td>\n",
       "    </tr>\n",
       "    <tr>\n",
       "      <th rowspan=\"5\" valign=\"top\">2020-01-02</th>\n",
       "      <th>AAPL</th>\n",
       "      <td>73.5616</td>\n",
       "      <td>73.6225</td>\n",
       "      <td>72.2955</td>\n",
       "      <td>72.5537</td>\n",
       "      <td>1.384613e+08</td>\n",
       "    </tr>\n",
       "    <tr>\n",
       "      <th>GOOGL</th>\n",
       "      <td>68.4340</td>\n",
       "      <td>68.4340</td>\n",
       "      <td>67.3245</td>\n",
       "      <td>67.4205</td>\n",
       "      <td>2.728530e+07</td>\n",
       "    </tr>\n",
       "    <tr>\n",
       "      <th>GOOG</th>\n",
       "      <td>68.3685</td>\n",
       "      <td>68.4070</td>\n",
       "      <td>67.0775</td>\n",
       "      <td>67.0775</td>\n",
       "      <td>2.813462e+07</td>\n",
       "    </tr>\n",
       "    <tr>\n",
       "      <th>MSFT</th>\n",
       "      <td>156.1330</td>\n",
       "      <td>156.2310</td>\n",
       "      <td>153.9280</td>\n",
       "      <td>154.3650</td>\n",
       "      <td>2.328220e+07</td>\n",
       "    </tr>\n",
       "    <tr>\n",
       "      <th>AMZN</th>\n",
       "      <td>94.9005</td>\n",
       "      <td>94.9005</td>\n",
       "      <td>93.2075</td>\n",
       "      <td>93.7500</td>\n",
       "      <td>8.071820e+07</td>\n",
       "    </tr>\n",
       "  </tbody>\n",
       "</table>\n",
       "<p>5075 rows × 5 columns</p>\n",
       "</div>"
      ],
      "text/plain": [
       "Attributes             Close      High       Low      Open        Volume\n",
       "Date       Symbols                                                      \n",
       "2024-01-12 AAPL     185.9200  186.7400  185.1900  186.0600  4.047778e+07\n",
       "           GOOGL    142.6500  143.1950  141.8200  142.6700  1.878551e+07\n",
       "           GOOG     144.2400  144.7400  143.3600  144.3400  1.399873e+07\n",
       "           MSFT     388.4700  388.6800  384.6500  385.4900  2.166115e+07\n",
       "           AMZN     154.6200  156.2000  154.0100  155.3900  4.048416e+07\n",
       "...                      ...       ...       ...       ...           ...\n",
       "2020-01-02 AAPL      73.5616   73.6225   72.2955   72.5537  1.384613e+08\n",
       "           GOOGL     68.4340   68.4340   67.3245   67.4205  2.728530e+07\n",
       "           GOOG      68.3685   68.4070   67.0775   67.0775  2.813462e+07\n",
       "           MSFT     156.1330  156.2310  153.9280  154.3650  2.328220e+07\n",
       "           AMZN      94.9005   94.9005   93.2075   93.7500  8.071820e+07\n",
       "\n",
       "[5075 rows x 5 columns]"
      ]
     },
     "execution_count": 114,
     "metadata": {},
     "output_type": "execute_result"
    }
   ],
   "source": [
    "df"
   ]
  },
  {
   "cell_type": "code",
   "execution_count": 116,
   "id": "c937f388",
   "metadata": {},
   "outputs": [
    {
     "name": "stdout",
     "output_type": "stream",
     "text": [
      "<class 'pandas.core.frame.DataFrame'>\n",
      "DatetimeIndex: 1015 entries, 2020-01-02 to 2024-01-12\n",
      "Data columns (total 5 columns):\n",
      " #   Column  Non-Null Count  Dtype  \n",
      "---  ------  --------------  -----  \n",
      " 0   AAPL    1015 non-null   float64\n",
      " 1   GOOGL   1015 non-null   float64\n",
      " 2   GOOG    1015 non-null   float64\n",
      " 3   MSFT    1015 non-null   float64\n",
      " 4   AMZN    1015 non-null   float64\n",
      "dtypes: float64(5)\n",
      "memory usage: 47.6 KB\n"
     ]
    }
   ],
   "source": [
    "# Further reshape MultiIndex DF by selecting a single column and unstack\n",
    "\n",
    "unstacked = df['Close'].unstack()\n",
    "unstacked.info()"
   ]
  },
  {
   "cell_type": "code",
   "execution_count": 117,
   "id": "a6845bf9",
   "metadata": {},
   "outputs": [
    {
     "data": {
      "text/html": [
       "<div>\n",
       "<style scoped>\n",
       "    .dataframe tbody tr th:only-of-type {\n",
       "        vertical-align: middle;\n",
       "    }\n",
       "\n",
       "    .dataframe tbody tr th {\n",
       "        vertical-align: top;\n",
       "    }\n",
       "\n",
       "    .dataframe thead th {\n",
       "        text-align: right;\n",
       "    }\n",
       "</style>\n",
       "<table border=\"1\" class=\"dataframe\">\n",
       "  <thead>\n",
       "    <tr style=\"text-align: right;\">\n",
       "      <th>Symbols</th>\n",
       "      <th>AAPL</th>\n",
       "      <th>GOOGL</th>\n",
       "      <th>GOOG</th>\n",
       "      <th>MSFT</th>\n",
       "      <th>AMZN</th>\n",
       "    </tr>\n",
       "    <tr>\n",
       "      <th>Date</th>\n",
       "      <th></th>\n",
       "      <th></th>\n",
       "      <th></th>\n",
       "      <th></th>\n",
       "      <th></th>\n",
       "    </tr>\n",
       "  </thead>\n",
       "  <tbody>\n",
       "    <tr>\n",
       "      <th>2020-01-02</th>\n",
       "      <td>73.5616</td>\n",
       "      <td>68.4340</td>\n",
       "      <td>68.3685</td>\n",
       "      <td>156.133</td>\n",
       "      <td>94.9005</td>\n",
       "    </tr>\n",
       "    <tr>\n",
       "      <th>2020-01-03</th>\n",
       "      <td>72.8488</td>\n",
       "      <td>68.0760</td>\n",
       "      <td>68.0330</td>\n",
       "      <td>154.216</td>\n",
       "      <td>93.7485</td>\n",
       "    </tr>\n",
       "    <tr>\n",
       "      <th>2020-01-06</th>\n",
       "      <td>73.4250</td>\n",
       "      <td>69.8905</td>\n",
       "      <td>69.7105</td>\n",
       "      <td>154.613</td>\n",
       "      <td>95.1440</td>\n",
       "    </tr>\n",
       "    <tr>\n",
       "      <th>2020-01-07</th>\n",
       "      <td>73.0831</td>\n",
       "      <td>69.7555</td>\n",
       "      <td>69.6670</td>\n",
       "      <td>153.183</td>\n",
       "      <td>95.3430</td>\n",
       "    </tr>\n",
       "    <tr>\n",
       "      <th>2020-01-08</th>\n",
       "      <td>74.2575</td>\n",
       "      <td>70.2520</td>\n",
       "      <td>70.2160</td>\n",
       "      <td>155.656</td>\n",
       "      <td>94.5985</td>\n",
       "    </tr>\n",
       "    <tr>\n",
       "      <th>...</th>\n",
       "      <td>...</td>\n",
       "      <td>...</td>\n",
       "      <td>...</td>\n",
       "      <td>...</td>\n",
       "      <td>...</td>\n",
       "    </tr>\n",
       "    <tr>\n",
       "      <th>2024-01-08</th>\n",
       "      <td>185.5600</td>\n",
       "      <td>138.8400</td>\n",
       "      <td>140.5300</td>\n",
       "      <td>374.690</td>\n",
       "      <td>149.1000</td>\n",
       "    </tr>\n",
       "    <tr>\n",
       "      <th>2024-01-09</th>\n",
       "      <td>185.1400</td>\n",
       "      <td>140.9500</td>\n",
       "      <td>142.5600</td>\n",
       "      <td>375.790</td>\n",
       "      <td>151.3700</td>\n",
       "    </tr>\n",
       "    <tr>\n",
       "      <th>2024-01-10</th>\n",
       "      <td>186.1900</td>\n",
       "      <td>142.2800</td>\n",
       "      <td>143.8000</td>\n",
       "      <td>382.770</td>\n",
       "      <td>153.7300</td>\n",
       "    </tr>\n",
       "    <tr>\n",
       "      <th>2024-01-11</th>\n",
       "      <td>185.5900</td>\n",
       "      <td>142.0800</td>\n",
       "      <td>143.6700</td>\n",
       "      <td>384.630</td>\n",
       "      <td>155.1800</td>\n",
       "    </tr>\n",
       "    <tr>\n",
       "      <th>2024-01-12</th>\n",
       "      <td>185.9200</td>\n",
       "      <td>142.6500</td>\n",
       "      <td>144.2400</td>\n",
       "      <td>388.470</td>\n",
       "      <td>154.6200</td>\n",
       "    </tr>\n",
       "  </tbody>\n",
       "</table>\n",
       "<p>1015 rows × 5 columns</p>\n",
       "</div>"
      ],
      "text/plain": [
       "Symbols         AAPL     GOOGL      GOOG     MSFT      AMZN\n",
       "Date                                                       \n",
       "2020-01-02   73.5616   68.4340   68.3685  156.133   94.9005\n",
       "2020-01-03   72.8488   68.0760   68.0330  154.216   93.7485\n",
       "2020-01-06   73.4250   69.8905   69.7105  154.613   95.1440\n",
       "2020-01-07   73.0831   69.7555   69.6670  153.183   95.3430\n",
       "2020-01-08   74.2575   70.2520   70.2160  155.656   94.5985\n",
       "...              ...       ...       ...      ...       ...\n",
       "2024-01-08  185.5600  138.8400  140.5300  374.690  149.1000\n",
       "2024-01-09  185.1400  140.9500  142.5600  375.790  151.3700\n",
       "2024-01-10  186.1900  142.2800  143.8000  382.770  153.7300\n",
       "2024-01-11  185.5900  142.0800  143.6700  384.630  155.1800\n",
       "2024-01-12  185.9200  142.6500  144.2400  388.470  154.6200\n",
       "\n",
       "[1015 rows x 5 columns]"
      ]
     },
     "execution_count": 117,
     "metadata": {},
     "output_type": "execute_result"
    }
   ],
   "source": [
    "unstacked"
   ]
  },
  {
   "cell_type": "code",
   "execution_count": 118,
   "id": "22e84e72",
   "metadata": {},
   "outputs": [
    {
     "data": {
      "image/png": "[encoded data removed]",
      "text/plain": [
       "<Figure size 432x288 with 5 Axes>"
      ]
     },
     "metadata": {
      "needs_background": "light"
     },
     "output_type": "display_data"
    }
   ],
   "source": [
    "# To plot a DF with several columns, you can use subplots\n",
    "# It displays each column on a separate chart\n",
    "\n",
    "unstacked.plot(subplots=True)\n",
    "plt.tight_layout()\n",
    "plt.show()"
   ]
  },
  {
   "cell_type": "code",
   "execution_count": null,
   "id": "177b1711",
   "metadata": {},
   "outputs": [],
   "source": []
  }
 ],
 "metadata": {
  "kernelspec": {
   "display_name": "Python 3 (ipykernel)",
   "language": "python",
   "name": "python3"
  },
  "language_info": {
   "codemirror_mode": {
    "name": "ipython",
    "version": 3
   },
   "file_extension": ".py",
   "mimetype": "text/x-python",
   "name": "python",
   "nbconvert_exporter": "python",
   "pygments_lexer": "ipython3",
   "version": "3.9.7"
  }
 },
 "nbformat": 4,
 "nbformat_minor": 5
}
