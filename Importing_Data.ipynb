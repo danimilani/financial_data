{
 "cells": [
  {
   "cell_type": "markdown",
   "id": "b29066d7",
   "metadata": {},
   "source": [
    "# Importing and Managing Financial Data in Python"
   ]
  },
  {
   "cell_type": "code",
   "execution_count": 5,
   "id": "f58eb9dd",
   "metadata": {},
   "outputs": [],
   "source": [
    "import pandas as pd"
   ]
  },
  {
   "cell_type": "code",
   "execution_count": 7,
   "id": "37a8bcc8",
   "metadata": {},
   "outputs": [
    {
     "name": "stdout",
     "output_type": "stream",
     "text": [
      "<class 'pandas.core.frame.DataFrame'>\n",
      "RangeIndex: 360 entries, 0 to 359\n",
      "Data columns (total 8 columns):\n",
      " #   Column                 Non-Null Count  Dtype  \n",
      "---  ------                 --------------  -----  \n",
      " 0   Stock Symbol           360 non-null    object \n",
      " 1   Company Name           360 non-null    object \n",
      " 2   Last Sale              346 non-null    float64\n",
      " 3   Market Capitalization  360 non-null    float64\n",
      " 4   IPO Year               105 non-null    float64\n",
      " 5   Sector                 238 non-null    object \n",
      " 6   Industry               238 non-null    object \n",
      " 7   Last Update            360 non-null    object \n",
      "dtypes: float64(3), object(5)\n",
      "memory usage: 22.6+ KB\n"
     ]
    }
   ],
   "source": [
    "amex = pd.read_csv('amex-listings.csv') # to import database\n",
    "amex.info() # to inspect table structure and data types"
   ]
  },
  {
   "cell_type": "code",
   "execution_count": 9,
   "id": "5c59f4d5",
   "metadata": {},
   "outputs": [
    {
     "name": "stdout",
     "output_type": "stream",
     "text": [
      "<class 'pandas.core.frame.DataFrame'>\n",
      "RangeIndex: 360 entries, 0 to 359\n",
      "Data columns (total 8 columns):\n",
      " #   Column                 Non-Null Count  Dtype  \n",
      "---  ------                 --------------  -----  \n",
      " 0   Stock Symbol           360 non-null    object \n",
      " 1   Company Name           360 non-null    object \n",
      " 2   Last Sale              346 non-null    float64\n",
      " 3   Market Capitalization  360 non-null    float64\n",
      " 4   IPO Year               105 non-null    float64\n",
      " 5   Sector                 238 non-null    object \n",
      " 6   Industry               238 non-null    object \n",
      " 7   Last Update            360 non-null    object \n",
      "dtypes: float64(3), object(5)\n",
      "memory usage: 22.6+ KB\n"
     ]
    }
   ],
   "source": [
    "# Replace 'n/a' with np.nan\n",
    "amex = pd.read_csv('amex-listings.csv', na_values='n/a')\n",
    "amex.info()"
   ]
  },
  {
   "cell_type": "markdown",
   "id": "d47b9d4b",
   "metadata": {},
   "source": [
    "## Properly parsing dates"
   ]
  },
  {
   "cell_type": "code",
   "execution_count": 11,
   "id": "3d475fb8",
   "metadata": {},
   "outputs": [
    {
     "name": "stdout",
     "output_type": "stream",
     "text": [
      "<class 'pandas.core.frame.DataFrame'>\n",
      "RangeIndex: 360 entries, 0 to 359\n",
      "Data columns (total 8 columns):\n",
      " #   Column                 Non-Null Count  Dtype         \n",
      "---  ------                 --------------  -----         \n",
      " 0   Stock Symbol           360 non-null    object        \n",
      " 1   Company Name           360 non-null    object        \n",
      " 2   Last Sale              346 non-null    float64       \n",
      " 3   Market Capitalization  360 non-null    float64       \n",
      " 4   IPO Year               105 non-null    float64       \n",
      " 5   Sector                 238 non-null    object        \n",
      " 6   Industry               238 non-null    object        \n",
      " 7   Last Update            360 non-null    datetime64[ns]\n",
      "dtypes: datetime64[ns](1), float64(3), object(4)\n",
      "memory usage: 22.6+ KB\n"
     ]
    }
   ],
   "source": [
    "amex = pd.read_csv('amex-listings.csv', na_values='n/a', parse_dates=['Last Update'])\n",
    "amex.info()"
   ]
  },
  {
   "cell_type": "code",
   "execution_count": 12,
   "id": "609474c2",
   "metadata": {},
   "outputs": [
    {
     "data": {
      "text/html": [
       "<div>\n",
       "<style scoped>\n",
       "    .dataframe tbody tr th:only-of-type {\n",
       "        vertical-align: middle;\n",
       "    }\n",
       "\n",
       "    .dataframe tbody tr th {\n",
       "        vertical-align: top;\n",
       "    }\n",
       "\n",
       "    .dataframe thead th {\n",
       "        text-align: right;\n",
       "    }\n",
       "</style>\n",
       "<table border=\"1\" class=\"dataframe\">\n",
       "  <thead>\n",
       "    <tr style=\"text-align: right;\">\n",
       "      <th></th>\n",
       "      <th>Stock Symbol</th>\n",
       "      <th>Company Name</th>\n",
       "      <th>Last Sale</th>\n",
       "      <th>Market Capitalization</th>\n",
       "      <th>IPO Year</th>\n",
       "      <th>Sector</th>\n",
       "      <th>Industry</th>\n",
       "      <th>Last Update</th>\n",
       "    </tr>\n",
       "  </thead>\n",
       "  <tbody>\n",
       "    <tr>\n",
       "      <th>0</th>\n",
       "      <td>XXII</td>\n",
       "      <td>22nd Century Group, Inc</td>\n",
       "      <td>1.33</td>\n",
       "      <td>1.206285e+08</td>\n",
       "      <td>NaN</td>\n",
       "      <td>Consumer Non-Durables</td>\n",
       "      <td>Farming/Seeds/Milling</td>\n",
       "      <td>2017-04-26</td>\n",
       "    </tr>\n",
       "    <tr>\n",
       "      <th>1</th>\n",
       "      <td>FAX</td>\n",
       "      <td>Aberdeen Asia-Pacific Income Fund Inc</td>\n",
       "      <td>5.00</td>\n",
       "      <td>1.266333e+09</td>\n",
       "      <td>1986.0</td>\n",
       "      <td>NaN</td>\n",
       "      <td>NaN</td>\n",
       "      <td>2017-04-25</td>\n",
       "    </tr>\n",
       "  </tbody>\n",
       "</table>\n",
       "</div>"
      ],
      "text/plain": [
       "  Stock Symbol                           Company Name  Last Sale  \\\n",
       "0         XXII                22nd Century Group, Inc       1.33   \n",
       "1          FAX  Aberdeen Asia-Pacific Income Fund Inc       5.00   \n",
       "\n",
       "   Market Capitalization  IPO Year                 Sector  \\\n",
       "0           1.206285e+08       NaN  Consumer Non-Durables   \n",
       "1           1.266333e+09    1986.0                    NaN   \n",
       "\n",
       "                Industry Last Update  \n",
       "0  Farming/Seeds/Milling  2017-04-26  \n",
       "1                    NaN  2017-04-25  "
      ]
     },
     "execution_count": 12,
     "metadata": {},
     "output_type": "execute_result"
    }
   ],
   "source": [
    "amex.head(2) # shows first n rows (default:5)"
   ]
  },
  {
   "cell_type": "markdown",
   "id": "f3e6ea03",
   "metadata": {},
   "source": [
    "### ** Exercises **"
   ]
  },
  {
   "cell_type": "markdown",
   "id": "5f30fb35",
   "metadata": {},
   "source": [
    "#### Import stock listing info from the NASDAQ"
   ]
  },
  {
   "cell_type": "code",
   "execution_count": 13,
   "id": "97f599f7",
   "metadata": {},
   "outputs": [
    {
     "name": "stdout",
     "output_type": "stream",
     "text": [
      "  Stock Symbol           Company Name  Last Sale  Market Capitalization  \\\n",
      "0         AAPL             Apple Inc.     141.05           7.400000e+11   \n",
      "1        GOOGL          Alphabet Inc.     840.18           5.810000e+11   \n",
      "2         GOOG          Alphabet Inc.     823.56           5.690000e+11   \n",
      "3         MSFT  Microsoft Corporation      64.95           5.020000e+11   \n",
      "4         AMZN       Amazon.com, Inc.     884.67           4.220000e+11   \n",
      "5           FB         Facebook, Inc.     139.39           4.030000e+11   \n",
      "6        CMCSA    Comcast Corporation      37.14           1.760000e+11   \n",
      "7         INTC      Intel Corporation      35.25           1.660000e+11   \n",
      "8         CSCO    Cisco Systems, Inc.      32.42           1.620000e+11   \n",
      "9         AMGN             Amgen Inc.     161.61           1.190000e+11   \n",
      "\n",
      "  IPO Year             Sector  \\\n",
      "0     1980         Technology   \n",
      "1      NAN         Technology   \n",
      "2     2004         Technology   \n",
      "3     1986         Technology   \n",
      "4     1997  Consumer Services   \n",
      "5     2012         Technology   \n",
      "6      NAN  Consumer Services   \n",
      "7      NAN         Technology   \n",
      "8     1990         Technology   \n",
      "9     1983        Health Care   \n",
      "\n",
      "                                            Industry Last Update  \n",
      "0                             Computer Manufacturing     4/26/17  \n",
      "1    Computer Software: Programming, Data Processing     4/24/17  \n",
      "2    Computer Software: Programming, Data Processing     4/23/17  \n",
      "3            Computer Software: Prepackaged Software     4/26/17  \n",
      "4                     Catalog/Specialty Distribution     4/24/17  \n",
      "5    Computer Software: Programming, Data Processing     4/26/17  \n",
      "6                                Television Services     4/26/17  \n",
      "7                                     Semiconductors     4/23/17  \n",
      "8                  Computer Communications Equipment     4/23/17  \n",
      "9  Biotechnology: Biological Products (No Diagnos...     4/24/17  \n"
     ]
    }
   ],
   "source": [
    "# Import pandas library\n",
    "import pandas as pd\n",
    "\n",
    "# Import the data\n",
    "nasdaq = pd.read_csv('nasdaq-listings.csv')\n",
    "\n",
    "# Display first 10 rows\n",
    "print(nasdaq.head(10))"
   ]
  },
  {
   "cell_type": "code",
   "execution_count": 14,
   "id": "b25a11b8",
   "metadata": {},
   "outputs": [
    {
     "name": "stdout",
     "output_type": "stream",
     "text": [
      "<class 'pandas.core.frame.DataFrame'>\n",
      "RangeIndex: 1115 entries, 0 to 1114\n",
      "Data columns (total 8 columns):\n",
      " #   Column                 Non-Null Count  Dtype  \n",
      "---  ------                 --------------  -----  \n",
      " 0   Stock Symbol           1115 non-null   object \n",
      " 1   Company Name           1115 non-null   object \n",
      " 2   Last Sale              1115 non-null   float64\n",
      " 3   Market Capitalization  1115 non-null   float64\n",
      " 4   IPO Year               1115 non-null   object \n",
      " 5   Sector                 1115 non-null   object \n",
      " 6   Industry               1115 non-null   object \n",
      " 7   Last Update            1115 non-null   object \n",
      "dtypes: float64(2), object(6)\n",
      "memory usage: 69.8+ KB\n"
     ]
    }
   ],
   "source": [
    "# Inspect nasdaq\n",
    "nasdaq.info()"
   ]
  },
  {
   "cell_type": "markdown",
   "id": "adfac79a",
   "metadata": {},
   "source": [
    "#### How to fix the data import?"
   ]
  },
  {
   "cell_type": "markdown",
   "id": "8e327593",
   "metadata": {},
   "source": [
    "Two optional arguments that you can add to .read_csv() to better represent the data from an external file are:\n",
    "\n",
    "na_values: Converts a given string to np.nan, defaults to None\n",
    "\n",
    "parse_dates: Reads the data in a list of given columns as dtype datetime64, defaults to False"
   ]
  },
  {
   "cell_type": "code",
   "execution_count": 20,
   "id": "83b20535",
   "metadata": {},
   "outputs": [
    {
     "name": "stdout",
     "output_type": "stream",
     "text": [
      "  Stock Symbol           Company Name  Last Sale  Market Capitalization  \\\n",
      "0         AAPL             Apple Inc.     141.05           7.400000e+11   \n",
      "1        GOOGL          Alphabet Inc.     840.18           5.810000e+11   \n",
      "2         GOOG          Alphabet Inc.     823.56           5.690000e+11   \n",
      "3         MSFT  Microsoft Corporation      64.95           5.020000e+11   \n",
      "4         AMZN       Amazon.com, Inc.     884.67           4.220000e+11   \n",
      "5           FB         Facebook, Inc.     139.39           4.030000e+11   \n",
      "6        CMCSA    Comcast Corporation      37.14           1.760000e+11   \n",
      "7         INTC      Intel Corporation      35.25           1.660000e+11   \n",
      "8         CSCO    Cisco Systems, Inc.      32.42           1.620000e+11   \n",
      "9         AMGN             Amgen Inc.     161.61           1.190000e+11   \n",
      "\n",
      "   IPO Year             Sector  \\\n",
      "0    1980.0         Technology   \n",
      "1       NaN         Technology   \n",
      "2    2004.0         Technology   \n",
      "3    1986.0         Technology   \n",
      "4    1997.0  Consumer Services   \n",
      "5    2012.0         Technology   \n",
      "6       NaN  Consumer Services   \n",
      "7       NaN         Technology   \n",
      "8    1990.0         Technology   \n",
      "9    1983.0        Health Care   \n",
      "\n",
      "                                            Industry Last Update  \n",
      "0                             Computer Manufacturing  2017-04-26  \n",
      "1    Computer Software: Programming, Data Processing  2017-04-24  \n",
      "2    Computer Software: Programming, Data Processing  2017-04-23  \n",
      "3            Computer Software: Prepackaged Software  2017-04-26  \n",
      "4                     Catalog/Specialty Distribution  2017-04-24  \n",
      "5    Computer Software: Programming, Data Processing  2017-04-26  \n",
      "6                                Television Services  2017-04-26  \n",
      "7                                     Semiconductors  2017-04-23  \n",
      "8                  Computer Communications Equipment  2017-04-23  \n",
      "9  Biotechnology: Biological Products (No Diagnos...  2017-04-24  \n"
     ]
    }
   ],
   "source": [
    "# Import the data\n",
    "nasdaq = pd.read_csv('nasdaq-listings.csv', \n",
    "                     parse_dates=['Last Update'],  \n",
    "                     na_values='NAN')\n",
    "print(nasdaq.head(10))"
   ]
  },
  {
   "cell_type": "code",
   "execution_count": 21,
   "id": "3957f410",
   "metadata": {},
   "outputs": [
    {
     "name": "stdout",
     "output_type": "stream",
     "text": [
      "<class 'pandas.core.frame.DataFrame'>\n",
      "RangeIndex: 1115 entries, 0 to 1114\n",
      "Data columns (total 8 columns):\n",
      " #   Column                 Non-Null Count  Dtype         \n",
      "---  ------                 --------------  -----         \n",
      " 0   Stock Symbol           1115 non-null   object        \n",
      " 1   Company Name           1115 non-null   object        \n",
      " 2   Last Sale              1115 non-null   float64       \n",
      " 3   Market Capitalization  1115 non-null   float64       \n",
      " 4   IPO Year               593 non-null    float64       \n",
      " 5   Sector                 1036 non-null   object        \n",
      " 6   Industry               1036 non-null   object        \n",
      " 7   Last Update            1115 non-null   datetime64[ns]\n",
      "dtypes: datetime64[ns](1), float64(3), object(4)\n",
      "memory usage: 69.8+ KB\n"
     ]
    }
   ],
   "source": [
    "nasdaq.info()"
   ]
  },
  {
   "cell_type": "markdown",
   "id": "ef8b5bd5",
   "metadata": {},
   "source": [
    "## Read data from Excel worksheets"
   ]
  },
  {
   "cell_type": "markdown",
   "id": "40eaaf35",
   "metadata": {},
   "source": [
    "Import data from excel\n",
    "\n",
    "pd.read_excel(file, sheet_name=0) # imports first sheet by default with zero\n",
    "pd.read_excel(file, sheet_name='amex') # you can also refer to the sheet by its name\n",
    "pd.read_excel(file, sheet_name=['amex', 'nasdaq']) # import multiple sheets with a list"
   ]
  },
  {
   "cell_type": "code",
   "execution_count": 29,
   "id": "977d88ce",
   "metadata": {},
   "outputs": [
    {
     "name": "stdout",
     "output_type": "stream",
     "text": [
      "<class 'pandas.core.frame.DataFrame'>\n",
      "RangeIndex: 360 entries, 0 to 359\n",
      "Data columns (total 7 columns):\n",
      " #   Column                 Non-Null Count  Dtype  \n",
      "---  ------                 --------------  -----  \n",
      " 0   Stock Symbol           360 non-null    object \n",
      " 1   Company Name           360 non-null    object \n",
      " 2   Last Sale              346 non-null    float64\n",
      " 3   Market Capitalization  360 non-null    float64\n",
      " 4   IPO Year               105 non-null    float64\n",
      " 5   Sector                 238 non-null    object \n",
      " 6   Industry               238 non-null    object \n",
      "dtypes: float64(3), object(4)\n",
      "memory usage: 19.8+ KB\n"
     ]
    }
   ],
   "source": [
    "# Reading the Amex sheet from Excel\n",
    "\n",
    "amex = pd.read_excel('listings.xlsx',\n",
    "                    sheet_name='amex',\n",
    "                    na_values='n/a')\n",
    "amex.info()"
   ]
  },
  {
   "cell_type": "code",
   "execution_count": 34,
   "id": "290d8e27",
   "metadata": {},
   "outputs": [
    {
     "name": "stdout",
     "output_type": "stream",
     "text": [
      "<class 'pandas.core.frame.DataFrame'>\n",
      "RangeIndex: 3167 entries, 0 to 3166\n",
      "Data columns (total 7 columns):\n",
      " #   Column                 Non-Null Count  Dtype  \n",
      "---  ------                 --------------  -----  \n",
      " 0   Stock Symbol           3167 non-null   object \n",
      " 1   Company Name           3167 non-null   object \n",
      " 2   Last Sale              3165 non-null   float64\n",
      " 3   Market Capitalization  3167 non-null   float64\n",
      " 4   IPO Year               1386 non-null   float64\n",
      " 5   Sector                 2767 non-null   object \n",
      " 6   Industry               2767 non-null   object \n",
      "dtypes: float64(3), object(4)\n",
      "memory usage: 173.3+ KB\n"
     ]
    }
   ],
   "source": [
    "# Importing data from two sheets\n",
    "\n",
    "listings = pd.read_excel('listings.xlsx',\n",
    "                    sheet_name=['amex', 'nasdaq'], #keys = sheet name\n",
    "                    na_values='n/a') #values = DataFrame\n",
    "\n",
    "listings['nasdaq'].info()"
   ]
  },
  {
   "cell_type": "code",
   "execution_count": 35,
   "id": "3d818636",
   "metadata": {},
   "outputs": [
    {
     "data": {
      "text/plain": [
       "['amex', 'nasdaq', 'nyse']"
      ]
     },
     "execution_count": 35,
     "metadata": {},
     "output_type": "execute_result"
    }
   ],
   "source": [
    "# Getting sheet names\n",
    "\n",
    "xls = pd.ExcelFile('listings.xlsx') # create a pd.ExcelFile object\n",
    "exchanges = xls.sheet_names # access the attribute sheet_names\n",
    "exchanges # assign the list to variable exchanges"
   ]
  },
  {
   "cell_type": "code",
   "execution_count": 37,
   "id": "30b75f59",
   "metadata": {},
   "outputs": [
    {
     "name": "stdout",
     "output_type": "stream",
     "text": [
      "<class 'pandas.core.frame.DataFrame'>\n",
      "RangeIndex: 3147 entries, 0 to 3146\n",
      "Data columns (total 7 columns):\n",
      " #   Column                 Non-Null Count  Dtype  \n",
      "---  ------                 --------------  -----  \n",
      " 0   Stock Symbol           3147 non-null   object \n",
      " 1   Company Name           3147 non-null   object \n",
      " 2   Last Sale              3079 non-null   float64\n",
      " 3   Market Capitalization  3147 non-null   float64\n",
      " 4   IPO Year               1361 non-null   float64\n",
      " 5   Sector                 2177 non-null   object \n",
      " 6   Industry               2177 non-null   object \n",
      "dtypes: float64(3), object(4)\n",
      "memory usage: 172.2+ KB\n"
     ]
    }
   ],
   "source": [
    "nyse = pd.read_excel(xls,\n",
    "                    sheet_name=exchanges[2],\n",
    "                    na_values='n/a')\n",
    "nyse.info()"
   ]
  },
  {
   "cell_type": "markdown",
   "id": "e9e54da2",
   "metadata": {},
   "source": [
    "### ** Exercises **"
   ]
  },
  {
   "cell_type": "markdown",
   "id": "c8b8b3f7",
   "metadata": {},
   "source": [
    "#### Load listing info from a single sheet"
   ]
  },
  {
   "cell_type": "code",
   "execution_count": 38,
   "id": "97323d17",
   "metadata": {},
   "outputs": [
    {
     "name": "stdout",
     "output_type": "stream",
     "text": [
      "  Stock Symbol            Company Name  Last Sale  Market Capitalization  \\\n",
      "0          DDD  3D Systems Corporation      14.48           1.647165e+09   \n",
      "1          MMM              3M Company     188.65           1.127366e+11   \n",
      "2         WBAI         500.com Limited      13.96           5.793129e+08   \n",
      "3         WUBA             58.com Inc.      36.11           5.225238e+09   \n",
      "4          AHC   A.H. Belo Corporation       6.20           1.347351e+08   \n",
      "\n",
      "   IPO Year             Sector  \\\n",
      "0       NaN         Technology   \n",
      "1       NaN        Health Care   \n",
      "2    2013.0  Consumer Services   \n",
      "3    2013.0         Technology   \n",
      "4       NaN  Consumer Services   \n",
      "\n",
      "                                          Industry  \n",
      "0          Computer Software: Prepackaged Software  \n",
      "1                       Medical/Dental Instruments  \n",
      "2            Services-Misc. Amusement & Recreation  \n",
      "3  Computer Software: Programming, Data Processing  \n",
      "4                             Newspapers/Magazines  \n",
      "<class 'pandas.core.frame.DataFrame'>\n",
      "RangeIndex: 3147 entries, 0 to 3146\n",
      "Data columns (total 7 columns):\n",
      " #   Column                 Non-Null Count  Dtype  \n",
      "---  ------                 --------------  -----  \n",
      " 0   Stock Symbol           3147 non-null   object \n",
      " 1   Company Name           3147 non-null   object \n",
      " 2   Last Sale              3079 non-null   float64\n",
      " 3   Market Capitalization  3147 non-null   float64\n",
      " 4   IPO Year               1361 non-null   float64\n",
      " 5   Sector                 2177 non-null   object \n",
      " 6   Industry               2177 non-null   object \n",
      "dtypes: float64(3), object(4)\n",
      "memory usage: 172.2+ KB\n"
     ]
    }
   ],
   "source": [
    "# Only read the NYSE worksheet of listings.xlsx\n",
    "\n",
    "# Import the data\n",
    "nyse = pd.read_excel('listings.xlsx', sheet_name = 'nyse' , na_values='n/a')\n",
    "\n",
    "# Display the head of the data\n",
    "print(nyse.head())\n",
    "\n",
    "# Inspect the data\n",
    "nyse.info()"
   ]
  },
  {
   "cell_type": "markdown",
   "id": "a5ba2fbc",
   "metadata": {},
   "source": [
    "#### Load listing data from two sheets"
   ]
  },
  {
   "cell_type": "code",
   "execution_count": 40,
   "id": "a8222df1",
   "metadata": {},
   "outputs": [
    {
     "name": "stdout",
     "output_type": "stream",
     "text": [
      "<class 'pandas.core.frame.DataFrame'>\n",
      "RangeIndex: 3167 entries, 0 to 3166\n",
      "Data columns (total 7 columns):\n",
      " #   Column                 Non-Null Count  Dtype  \n",
      "---  ------                 --------------  -----  \n",
      " 0   Stock Symbol           3167 non-null   object \n",
      " 1   Company Name           3167 non-null   object \n",
      " 2   Last Sale              3165 non-null   float64\n",
      " 3   Market Capitalization  3167 non-null   float64\n",
      " 4   IPO Year               1386 non-null   float64\n",
      " 5   Sector                 2767 non-null   object \n",
      " 6   Industry               2767 non-null   object \n",
      "dtypes: float64(3), object(4)\n",
      "memory usage: 173.3+ KB\n"
     ]
    }
   ],
   "source": [
    "# Create pd.ExcelFile() object\n",
    "xls = pd.ExcelFile('listings.xlsx')\n",
    "\n",
    "# Extract sheet names and store in exchanges\n",
    "exchanges = xls.sheet_names\n",
    "\n",
    "# Create listings dictionary with all sheet data\n",
    "listings = pd.read_excel(xls, sheet_name=exchanges, na_values='n/a')\n",
    "\n",
    "# Inspect NASDAQ listings\n",
    "listings['nasdaq'].info()"
   ]
  },
  {
   "cell_type": "markdown",
   "id": "df20cf7e",
   "metadata": {},
   "source": [
    "## Combine data from multiple worksheets"
   ]
  },
  {
   "cell_type": "code",
   "execution_count": 41,
   "id": "d6d6a5fe",
   "metadata": {},
   "outputs": [
    {
     "name": "stdout",
     "output_type": "stream",
     "text": [
      "<class 'pandas.core.frame.DataFrame'>\n",
      "Int64Index: 3507 entries, 0 to 3146\n",
      "Data columns (total 7 columns):\n",
      " #   Column                 Non-Null Count  Dtype  \n",
      "---  ------                 --------------  -----  \n",
      " 0   Stock Symbol           3507 non-null   object \n",
      " 1   Company Name           3507 non-null   object \n",
      " 2   Last Sale              3425 non-null   float64\n",
      " 3   Market Capitalization  3507 non-null   float64\n",
      " 4   IPO Year               1466 non-null   float64\n",
      " 5   Sector                 2415 non-null   object \n",
      " 6   Industry               2415 non-null   object \n",
      "dtypes: float64(3), object(4)\n",
      "memory usage: 219.2+ KB\n"
     ]
    }
   ],
   "source": [
    "# Combine DataFrames\n",
    "\n",
    "# pd.concat([amex,nasdaq,nyse]) # combines dataframes vertically\n",
    "\n",
    "# Import the data\n",
    "\n",
    "amex = pd.read_excel('listings.xlsx', sheet_name = 'amex' , na_values=['n/a'])\n",
    "nyse = pd.read_excel('listings.xlsx', sheet_name = 'nyse' , na_values=['n/a'])\n",
    "\n",
    "pd.concat([amex,nyse]).info()"
   ]
  },
  {
   "cell_type": "code",
   "execution_count": 43,
   "id": "e07652a2",
   "metadata": {},
   "outputs": [
    {
     "data": {
      "text/html": [
       "<div>\n",
       "<style scoped>\n",
       "    .dataframe tbody tr th:only-of-type {\n",
       "        vertical-align: middle;\n",
       "    }\n",
       "\n",
       "    .dataframe tbody tr th {\n",
       "        vertical-align: top;\n",
       "    }\n",
       "\n",
       "    .dataframe thead th {\n",
       "        text-align: right;\n",
       "    }\n",
       "</style>\n",
       "<table border=\"1\" class=\"dataframe\">\n",
       "  <thead>\n",
       "    <tr style=\"text-align: right;\">\n",
       "      <th></th>\n",
       "      <th>Stock Symbol</th>\n",
       "      <th>Company Name</th>\n",
       "      <th>Last Sale</th>\n",
       "      <th>Market Capitalization</th>\n",
       "      <th>IPO Year</th>\n",
       "      <th>Sector</th>\n",
       "      <th>Industry</th>\n",
       "      <th>Exchange</th>\n",
       "    </tr>\n",
       "  </thead>\n",
       "  <tbody>\n",
       "    <tr>\n",
       "      <th>0</th>\n",
       "      <td>XXII</td>\n",
       "      <td>22nd Century Group, Inc</td>\n",
       "      <td>1.33</td>\n",
       "      <td>1.206285e+08</td>\n",
       "      <td>NaN</td>\n",
       "      <td>Consumer Non-Durables</td>\n",
       "      <td>Farming/Seeds/Milling</td>\n",
       "      <td>AMEX</td>\n",
       "    </tr>\n",
       "    <tr>\n",
       "      <th>1</th>\n",
       "      <td>FAX</td>\n",
       "      <td>Aberdeen Asia-Pacific Income Fund Inc</td>\n",
       "      <td>5.00</td>\n",
       "      <td>1.266333e+09</td>\n",
       "      <td>1986.0</td>\n",
       "      <td>NaN</td>\n",
       "      <td>NaN</td>\n",
       "      <td>AMEX</td>\n",
       "    </tr>\n",
       "  </tbody>\n",
       "</table>\n",
       "</div>"
      ],
      "text/plain": [
       "  Stock Symbol                           Company Name  Last Sale  \\\n",
       "0         XXII                22nd Century Group, Inc       1.33   \n",
       "1          FAX  Aberdeen Asia-Pacific Income Fund Inc       5.00   \n",
       "\n",
       "   Market Capitalization  IPO Year                 Sector  \\\n",
       "0           1.206285e+08       NaN  Consumer Non-Durables   \n",
       "1           1.266333e+09    1986.0                    NaN   \n",
       "\n",
       "                Industry Exchange  \n",
       "0  Farming/Seeds/Milling     AMEX  \n",
       "1                    NaN     AMEX  "
      ]
     },
     "execution_count": 43,
     "metadata": {},
     "output_type": "execute_result"
    }
   ],
   "source": [
    "# Add a column to reference source (BROADCASTING)\n",
    "\n",
    "amex['Exchange'] = 'AMEX'\n",
    "nyse['Exchange'] = 'NYSE'\n",
    "\n",
    "listings = pd.concat([amex,nyse])\n",
    "listings.head(2)"
   ]
  },
  {
   "cell_type": "code",
   "execution_count": 49,
   "id": "80ccd12e",
   "metadata": {},
   "outputs": [
    {
     "name": "stdout",
     "output_type": "stream",
     "text": [
      "<class 'pandas.core.frame.DataFrame'>\n",
      "Int64Index: 6674 entries, 0 to 3146\n",
      "Data columns (total 8 columns):\n",
      " #   Column                 Non-Null Count  Dtype  \n",
      "---  ------                 --------------  -----  \n",
      " 0   Stock Symbol           6674 non-null   object \n",
      " 1   Company Name           6674 non-null   object \n",
      " 2   Last Sale              6590 non-null   float64\n",
      " 3   Market Capitalization  6674 non-null   float64\n",
      " 4   IPO Year               2852 non-null   float64\n",
      " 5   Sector                 5182 non-null   object \n",
      " 6   Industry               5182 non-null   object \n",
      " 7   Exchange               6674 non-null   object \n",
      "dtypes: float64(3), object(5)\n",
      "memory usage: 469.3+ KB\n"
     ]
    }
   ],
   "source": [
    "# Combine three DataFramnes with LOOP\n",
    "\n",
    "xls = pd.ExcelFile ('listings.xlsx') # create a list with names of worksheets\n",
    "exchanges = xls.sheet_names # assign list to a variable\n",
    "listings = [] # create empty list to collect DataFrames\n",
    "\n",
    "# loop into worksheets\n",
    "for exchange in exchanges:\n",
    "    listing = pd.read_excel(xls, sheet_name=exchange)\n",
    "    # add reference col\n",
    "    listing['Exchange'] = exchange\n",
    "    # add DataFrame to list\n",
    "    listings.append(listing)\n",
    "    \n",
    "# List of DataFrames\n",
    "combined_listings = pd.concat(listings)\n",
    "combined_listings.info()"
   ]
  },
  {
   "cell_type": "markdown",
   "id": "738ea597",
   "metadata": {},
   "source": [
    "### ** Exercises **"
   ]
  },
  {
   "cell_type": "markdown",
   "id": "4c8df95a",
   "metadata": {},
   "source": [
    "#### Load all listing data and iterate over key-value dictionary pairs"
   ]
  },
  {
   "cell_type": "code",
   "execution_count": 51,
   "id": "9cc4d59c",
   "metadata": {},
   "outputs": [
    {
     "name": "stdout",
     "output_type": "stream",
     "text": [
      "<class 'pandas.core.frame.DataFrame'>\n",
      "RangeIndex: 3147 entries, 0 to 3146\n",
      "Data columns (total 7 columns):\n",
      " #   Column                 Non-Null Count  Dtype  \n",
      "---  ------                 --------------  -----  \n",
      " 0   Stock Symbol           3147 non-null   object \n",
      " 1   Company Name           3147 non-null   object \n",
      " 2   Last Sale              3079 non-null   float64\n",
      " 3   Market Capitalization  3147 non-null   float64\n",
      " 4   IPO Year               1361 non-null   float64\n",
      " 5   Sector                 2177 non-null   object \n",
      " 6   Industry               2177 non-null   object \n",
      "dtypes: float64(3), object(4)\n",
      "memory usage: 172.2+ KB\n",
      "<class 'pandas.core.frame.DataFrame'>\n",
      "RangeIndex: 3167 entries, 0 to 3166\n",
      "Data columns (total 7 columns):\n",
      " #   Column                 Non-Null Count  Dtype  \n",
      "---  ------                 --------------  -----  \n",
      " 0   Stock Symbol           3167 non-null   object \n",
      " 1   Company Name           3167 non-null   object \n",
      " 2   Last Sale              3165 non-null   float64\n",
      " 3   Market Capitalization  3167 non-null   float64\n",
      " 4   IPO Year               1386 non-null   float64\n",
      " 5   Sector                 2767 non-null   object \n",
      " 6   Industry               2767 non-null   object \n",
      "dtypes: float64(3), object(4)\n",
      "memory usage: 173.3+ KB\n"
     ]
    }
   ],
   "source": [
    "# Import the NYSE and NASDAQ listings\n",
    "nyse = pd.read_excel('listings.xlsx', sheet_name='nyse', na_values='n/a')\n",
    "nasdaq = pd.read_excel('listings.xlsx', sheet_name='nasdaq', na_values='n/a')\n",
    "\n",
    "# Inspect nyse and nasdaq\n",
    "nyse.info()\n",
    "nasdaq.info()\n",
    "\n",
    "# Add Exchange reference columns\n",
    "nyse['Exchange'] = 'NYSE'\n",
    "nasdaq['Exchange'] = 'NASDAQ'\n",
    "\n",
    "# Concatenate DataFrames  \n",
    "combined_listings = pd.concat([nyse, nasdaq]) "
   ]
  },
  {
   "cell_type": "code",
   "execution_count": 52,
   "id": "2d4d77ee",
   "metadata": {},
   "outputs": [
    {
     "name": "stdout",
     "output_type": "stream",
     "text": [
      "<class 'pandas.core.frame.DataFrame'>\n",
      "Int64Index: 6314 entries, 0 to 3166\n",
      "Data columns (total 8 columns):\n",
      " #   Column                 Non-Null Count  Dtype  \n",
      "---  ------                 --------------  -----  \n",
      " 0   Stock Symbol           6314 non-null   object \n",
      " 1   Company Name           6314 non-null   object \n",
      " 2   Last Sale              6244 non-null   float64\n",
      " 3   Market Capitalization  6314 non-null   float64\n",
      " 4   IPO Year               2747 non-null   float64\n",
      " 5   Sector                 4944 non-null   object \n",
      " 6   Industry               4944 non-null   object \n",
      " 7   Exchange               6314 non-null   object \n",
      "dtypes: float64(3), object(5)\n",
      "memory usage: 444.0+ KB\n"
     ]
    }
   ],
   "source": [
    "combined_listings.info()"
   ]
  },
  {
   "cell_type": "markdown",
   "id": "0c16629e",
   "metadata": {},
   "source": [
    "#### Automate the loading and combining of data from multiple Excel worksheets"
   ]
  },
  {
   "cell_type": "code",
   "execution_count": 53,
   "id": "51d88351",
   "metadata": {},
   "outputs": [
    {
     "name": "stdout",
     "output_type": "stream",
     "text": [
      "<class 'pandas.core.frame.DataFrame'>\n",
      "Int64Index: 6674 entries, 0 to 3146\n",
      "Data columns (total 8 columns):\n",
      " #   Column                 Non-Null Count  Dtype  \n",
      "---  ------                 --------------  -----  \n",
      " 0   Stock Symbol           6674 non-null   object \n",
      " 1   Company Name           6674 non-null   object \n",
      " 2   Last Sale              6590 non-null   float64\n",
      " 3   Market Capitalization  6674 non-null   float64\n",
      " 4   IPO Year               2852 non-null   float64\n",
      " 5   Sector                 5182 non-null   object \n",
      " 6   Industry               5182 non-null   object \n",
      " 7   Exchange               6674 non-null   object \n",
      "dtypes: float64(3), object(5)\n",
      "memory usage: 469.3+ KB\n"
     ]
    }
   ],
   "source": [
    "# Create the pd.ExcelFile() object\n",
    "xls = pd.ExcelFile('listings.xlsx')\n",
    "\n",
    "# Extract the sheet names from xls\n",
    "exchanges = xls.sheet_names\n",
    "\n",
    "# Create an empty list: listings\n",
    "listings = []\n",
    "\n",
    "# Import the data\n",
    "for exchange in exchanges:\n",
    "    listing = pd.read_excel(xls, sheet_name=exchange, na_values='n/a')\n",
    "    listing['Exchange'] = exchange\n",
    "    listings.append(listing)\n",
    "\n",
    "# Concatenate the listings: listing_data\n",
    "listing_data = pd.concat(listings)\n",
    "\n",
    "# Inspect the results\n",
    "listing_data.info()"
   ]
  },
  {
   "cell_type": "code",
   "execution_count": null,
   "id": "cbeef7d6",
   "metadata": {},
   "outputs": [],
   "source": []
  }
 ],
 "metadata": {
  "kernelspec": {
   "display_name": "Python 3 (ipykernel)",
   "language": "python",
   "name": "python3"
  },
  "language_info": {
   "codemirror_mode": {
    "name": "ipython",
    "version": 3
   },
   "file_extension": ".py",
   "mimetype": "text/x-python",
   "name": "python",
   "nbconvert_exporter": "python",
   "pygments_lexer": "ipython3",
   "version": "3.9.7"
  }
 },
 "nbformat": 4,
 "nbformat_minor": 5
}
